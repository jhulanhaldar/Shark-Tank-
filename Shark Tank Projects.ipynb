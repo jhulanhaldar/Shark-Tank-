{
 "cells": [
  {
   "cell_type": "markdown",
   "id": "fe656606",
   "metadata": {},
   "source": [
    "# This project based on the data from Shark Tank India. In this datasets data contains from season 1 & season 2 both."
   ]
  },
  {
   "cell_type": "markdown",
   "id": "94bb3bd5",
   "metadata": {},
   "source": [
    "The main objective of this analysis:-\n",
    "\n",
    "1. To find total amount invested by each Sharks in startups in both seasons.\n",
    "\n",
    "2. To find total number of startups in which sharks invested.\n",
    "\n",
    "2. To find which industry Sharks invested the most.\n",
    "\n",
    "3. To find which state's startups sharks invested the most.\n",
    "\n"
   ]
  },
  {
   "cell_type": "code",
   "execution_count": 1,
   "id": "bad54ce6",
   "metadata": {},
   "outputs": [],
   "source": [
    "#First we have to import pandas and numpy\n",
    "import pandas as pd\n",
    "import numpy as np"
   ]
  },
  {
   "cell_type": "code",
   "execution_count": 2,
   "id": "5add745a",
   "metadata": {},
   "outputs": [
    {
     "name": "stdout",
     "output_type": "stream",
     "text": [
      "2.0.3\n",
      "1.25.2\n"
     ]
    }
   ],
   "source": [
    "#Checking the version of pandas and numpy.To aviod any software error.\n",
    "print(pd.__version__)\n",
    "print(np.__version__)"
   ]
  },
  {
   "cell_type": "markdown",
   "id": "33156bef",
   "metadata": {},
   "source": [
    "**Reading the dataset file Shark Tank India csv file with the help of pandas and printing first five rows.**"
   ]
  },
  {
   "cell_type": "code",
   "execution_count": 3,
   "id": "a1bb1b8b",
   "metadata": {},
   "outputs": [
    {
     "data": {
      "text/html": [
       "<div>\n",
       "<style scoped>\n",
       "    .dataframe tbody tr th:only-of-type {\n",
       "        vertical-align: middle;\n",
       "    }\n",
       "\n",
       "    .dataframe tbody tr th {\n",
       "        vertical-align: top;\n",
       "    }\n",
       "\n",
       "    .dataframe thead th {\n",
       "        text-align: right;\n",
       "    }\n",
       "</style>\n",
       "<table border=\"1\" class=\"dataframe\">\n",
       "  <thead>\n",
       "    <tr style=\"text-align: right;\">\n",
       "      <th></th>\n",
       "      <th>Season Number</th>\n",
       "      <th>Season Start</th>\n",
       "      <th>Season End</th>\n",
       "      <th>Episode Number</th>\n",
       "      <th>Episode Title</th>\n",
       "      <th>Pitch Number</th>\n",
       "      <th>Startup Name</th>\n",
       "      <th>Industry</th>\n",
       "      <th>Business Description</th>\n",
       "      <th>Company Website</th>\n",
       "      <th>...</th>\n",
       "      <th>Ghazal Investment Amount</th>\n",
       "      <th>Ghazal Investment Equity</th>\n",
       "      <th>Ghazal Debt Amount</th>\n",
       "      <th>Amit Investment Amount</th>\n",
       "      <th>Amit Investment Equity</th>\n",
       "      <th>Amit Debt Amount</th>\n",
       "      <th>Guest Investment Amount</th>\n",
       "      <th>Guest Investment Equity</th>\n",
       "      <th>Guest Debt Amount</th>\n",
       "      <th>Guest Name</th>\n",
       "    </tr>\n",
       "  </thead>\n",
       "  <tbody>\n",
       "    <tr>\n",
       "      <th>0</th>\n",
       "      <td>1</td>\n",
       "      <td>20-Dec-21</td>\n",
       "      <td>04-Feb-22</td>\n",
       "      <td>1</td>\n",
       "      <td>Badlegi Business Ki Tasveer</td>\n",
       "      <td>1</td>\n",
       "      <td>BluePineFoods</td>\n",
       "      <td>Food</td>\n",
       "      <td>Frozen Momos</td>\n",
       "      <td>https://bluepinefoods.com/</td>\n",
       "      <td>...</td>\n",
       "      <td>NaN</td>\n",
       "      <td>NaN</td>\n",
       "      <td>NaN</td>\n",
       "      <td>NaN</td>\n",
       "      <td>NaN</td>\n",
       "      <td>NaN</td>\n",
       "      <td>NaN</td>\n",
       "      <td>NaN</td>\n",
       "      <td>NaN</td>\n",
       "      <td>NaN</td>\n",
       "    </tr>\n",
       "    <tr>\n",
       "      <th>1</th>\n",
       "      <td>1</td>\n",
       "      <td>20-Dec-21</td>\n",
       "      <td>04-Feb-22</td>\n",
       "      <td>1</td>\n",
       "      <td>Badlegi Business Ki Tasveer</td>\n",
       "      <td>2</td>\n",
       "      <td>BoozScooters</td>\n",
       "      <td>Vehicles/Electrical Vehicles</td>\n",
       "      <td>Renting e-bike for mobility in private spaces</td>\n",
       "      <td>https://www.boozup.net/</td>\n",
       "      <td>...</td>\n",
       "      <td>NaN</td>\n",
       "      <td>NaN</td>\n",
       "      <td>NaN</td>\n",
       "      <td>NaN</td>\n",
       "      <td>NaN</td>\n",
       "      <td>NaN</td>\n",
       "      <td>NaN</td>\n",
       "      <td>NaN</td>\n",
       "      <td>NaN</td>\n",
       "      <td>NaN</td>\n",
       "    </tr>\n",
       "    <tr>\n",
       "      <th>2</th>\n",
       "      <td>1</td>\n",
       "      <td>20-Dec-21</td>\n",
       "      <td>04-Feb-22</td>\n",
       "      <td>1</td>\n",
       "      <td>Badlegi Business Ki Tasveer</td>\n",
       "      <td>3</td>\n",
       "      <td>HeartUpMySleeves</td>\n",
       "      <td>Beauty/Fashion</td>\n",
       "      <td>Detachable Sleeves</td>\n",
       "      <td>https://heartupmysleeves.com/</td>\n",
       "      <td>...</td>\n",
       "      <td>NaN</td>\n",
       "      <td>NaN</td>\n",
       "      <td>NaN</td>\n",
       "      <td>NaN</td>\n",
       "      <td>NaN</td>\n",
       "      <td>NaN</td>\n",
       "      <td>NaN</td>\n",
       "      <td>NaN</td>\n",
       "      <td>NaN</td>\n",
       "      <td>NaN</td>\n",
       "    </tr>\n",
       "    <tr>\n",
       "      <th>3</th>\n",
       "      <td>1</td>\n",
       "      <td>20-Dec-21</td>\n",
       "      <td>04-Feb-22</td>\n",
       "      <td>2</td>\n",
       "      <td>Insaan, Ideas Aur Sapne</td>\n",
       "      <td>4</td>\n",
       "      <td>TagzFoods</td>\n",
       "      <td>Food</td>\n",
       "      <td>Healthy Potato Chips Snacks</td>\n",
       "      <td>https://tagzfoods.com/</td>\n",
       "      <td>...</td>\n",
       "      <td>NaN</td>\n",
       "      <td>NaN</td>\n",
       "      <td>NaN</td>\n",
       "      <td>NaN</td>\n",
       "      <td>NaN</td>\n",
       "      <td>NaN</td>\n",
       "      <td>NaN</td>\n",
       "      <td>NaN</td>\n",
       "      <td>NaN</td>\n",
       "      <td>NaN</td>\n",
       "    </tr>\n",
       "    <tr>\n",
       "      <th>4</th>\n",
       "      <td>1</td>\n",
       "      <td>20-Dec-21</td>\n",
       "      <td>04-Feb-22</td>\n",
       "      <td>2</td>\n",
       "      <td>Insaan, Ideas Aur Sapne</td>\n",
       "      <td>5</td>\n",
       "      <td>HeadAndHeart</td>\n",
       "      <td>Education</td>\n",
       "      <td>Brain Development Course</td>\n",
       "      <td>https://thehnh.in/</td>\n",
       "      <td>...</td>\n",
       "      <td>NaN</td>\n",
       "      <td>NaN</td>\n",
       "      <td>NaN</td>\n",
       "      <td>NaN</td>\n",
       "      <td>NaN</td>\n",
       "      <td>NaN</td>\n",
       "      <td>NaN</td>\n",
       "      <td>NaN</td>\n",
       "      <td>NaN</td>\n",
       "      <td>NaN</td>\n",
       "    </tr>\n",
       "  </tbody>\n",
       "</table>\n",
       "<p>5 rows × 64 columns</p>\n",
       "</div>"
      ],
      "text/plain": [
       "   Season Number Season Start Season End  Episode Number  \\\n",
       "0              1    20-Dec-21  04-Feb-22               1   \n",
       "1              1    20-Dec-21  04-Feb-22               1   \n",
       "2              1    20-Dec-21  04-Feb-22               1   \n",
       "3              1    20-Dec-21  04-Feb-22               2   \n",
       "4              1    20-Dec-21  04-Feb-22               2   \n",
       "\n",
       "                 Episode Title  Pitch Number      Startup Name  \\\n",
       "0  Badlegi Business Ki Tasveer             1     BluePineFoods   \n",
       "1  Badlegi Business Ki Tasveer             2      BoozScooters   \n",
       "2  Badlegi Business Ki Tasveer             3  HeartUpMySleeves   \n",
       "3      Insaan, Ideas Aur Sapne             4         TagzFoods   \n",
       "4      Insaan, Ideas Aur Sapne             5      HeadAndHeart   \n",
       "\n",
       "                       Industry  \\\n",
       "0                          Food   \n",
       "1  Vehicles/Electrical Vehicles   \n",
       "2                Beauty/Fashion   \n",
       "3                          Food   \n",
       "4                     Education   \n",
       "\n",
       "                            Business Description  \\\n",
       "0                                   Frozen Momos   \n",
       "1  Renting e-bike for mobility in private spaces   \n",
       "2                             Detachable Sleeves   \n",
       "3                    Healthy Potato Chips Snacks   \n",
       "4                       Brain Development Course   \n",
       "\n",
       "                 Company Website  ...  Ghazal Investment Amount  \\\n",
       "0     https://bluepinefoods.com/  ...                       NaN   \n",
       "1        https://www.boozup.net/  ...                       NaN   \n",
       "2  https://heartupmysleeves.com/  ...                       NaN   \n",
       "3         https://tagzfoods.com/  ...                       NaN   \n",
       "4             https://thehnh.in/  ...                       NaN   \n",
       "\n",
       "   Ghazal Investment Equity  Ghazal Debt Amount  Amit Investment Amount  \\\n",
       "0                       NaN                 NaN                     NaN   \n",
       "1                       NaN                 NaN                     NaN   \n",
       "2                       NaN                 NaN                     NaN   \n",
       "3                       NaN                 NaN                     NaN   \n",
       "4                       NaN                 NaN                     NaN   \n",
       "\n",
       "   Amit Investment Equity Amit Debt Amount  Guest Investment Amount  \\\n",
       "0                     NaN              NaN                      NaN   \n",
       "1                     NaN              NaN                      NaN   \n",
       "2                     NaN              NaN                      NaN   \n",
       "3                     NaN              NaN                      NaN   \n",
       "4                     NaN              NaN                      NaN   \n",
       "\n",
       "  Guest Investment Equity Guest Debt Amount  Guest Name  \n",
       "0                     NaN               NaN         NaN  \n",
       "1                     NaN               NaN         NaN  \n",
       "2                     NaN               NaN         NaN  \n",
       "3                     NaN               NaN         NaN  \n",
       "4                     NaN               NaN         NaN  \n",
       "\n",
       "[5 rows x 64 columns]"
      ]
     },
     "execution_count": 3,
     "metadata": {},
     "output_type": "execute_result"
    }
   ],
   "source": [
    "data = pd.read_csv(\"Shark Tank India.csv\")\n",
    "data.head()"
   ]
  },
  {
   "cell_type": "markdown",
   "id": "2846dbe2",
   "metadata": {},
   "source": [
    "**Finding numbers of rows and columns in the dataset using \".shape\"**"
   ]
  },
  {
   "cell_type": "code",
   "execution_count": 4,
   "id": "fd2f63c8",
   "metadata": {},
   "outputs": [
    {
     "data": {
      "text/plain": [
       "(320, 64)"
      ]
     },
     "execution_count": 4,
     "metadata": {},
     "output_type": "execute_result"
    }
   ],
   "source": [
    "data.shape"
   ]
  },
  {
   "cell_type": "markdown",
   "id": "7a038be0",
   "metadata": {},
   "source": [
    "**To view all columns in the dataset we have to use \".columns\"**"
   ]
  },
  {
   "cell_type": "code",
   "execution_count": 5,
   "id": "c9e95905",
   "metadata": {},
   "outputs": [
    {
     "data": {
      "text/plain": [
       "Index(['Season Number', 'Season Start', 'Season End', 'Episode Number',\n",
       "       'Episode Title', 'Pitch Number', 'Startup Name', 'Industry',\n",
       "       'Business Description', 'Company Website', 'Number of Presenters',\n",
       "       'Male Presenters', 'Female Presenters', 'Transgender Presenters',\n",
       "       'Couple Presenters', 'Pitchers Average Age', 'Started in',\n",
       "       'Pitchers City', 'Pitchers State', 'Yearly Revenue', 'Monthly Sales',\n",
       "       'Gross Margin', 'Net Margin', 'Original Ask Amount',\n",
       "       'Original Offered Equity', 'Valuation Requested', 'Received Offer',\n",
       "       'Accepted Offer', 'Total Deal Amount', 'Total Deal Equity',\n",
       "       'Total Deal Debt', 'Debt Interest', 'Deal Valuation',\n",
       "       'Number of sharks in deal', 'Deal has conditions', 'Has Patents',\n",
       "       'Ashneer Investment Amount', 'Ashneer Investment Equity',\n",
       "       'Ashneer Debt Amount', 'Namita Investment Amount',\n",
       "       'Namita Investment Equity', 'Namita Debt Amount',\n",
       "       'Anupam Investment Amount', 'Anupam Investment Equity',\n",
       "       'Anupam Debt Amount', 'Vineeta Investment Amount',\n",
       "       'Vineeta Investment Equity', 'Vineeta Debt Amount',\n",
       "       'Aman Investment Amount', 'Aman Investment Equity', 'Aman Debt Amount',\n",
       "       'Peyush Investment Amount', 'Peyush Investment Equity',\n",
       "       'Peyush Debt Amount', 'Ghazal Investment Amount',\n",
       "       'Ghazal Investment Equity', 'Ghazal Debt Amount',\n",
       "       'Amit Investment Amount', 'Amit Investment Equity', 'Amit Debt Amount',\n",
       "       'Guest Investment Amount', 'Guest Investment Equity',\n",
       "       'Guest Debt Amount', 'Guest Name'],\n",
       "      dtype='object')"
      ]
     },
     "execution_count": 5,
     "metadata": {},
     "output_type": "execute_result"
    }
   ],
   "source": [
    "data.columns"
   ]
  },
  {
   "cell_type": "markdown",
   "id": "0dee1970",
   "metadata": {},
   "source": [
    "**To find complete information of the dataset we have to use \".info()\"**"
   ]
  },
  {
   "cell_type": "code",
   "execution_count": 6,
   "id": "d6327c3b",
   "metadata": {
    "scrolled": true
   },
   "outputs": [
    {
     "name": "stdout",
     "output_type": "stream",
     "text": [
      "<class 'pandas.core.frame.DataFrame'>\n",
      "RangeIndex: 320 entries, 0 to 319\n",
      "Data columns (total 64 columns):\n",
      " #   Column                     Non-Null Count  Dtype  \n",
      "---  ------                     --------------  -----  \n",
      " 0   Season Number              320 non-null    int64  \n",
      " 1   Season Start               320 non-null    object \n",
      " 2   Season End                 320 non-null    object \n",
      " 3   Episode Number             320 non-null    int64  \n",
      " 4   Episode Title              320 non-null    object \n",
      " 5   Pitch Number               320 non-null    int64  \n",
      " 6   Startup Name               320 non-null    object \n",
      " 7   Industry                   320 non-null    object \n",
      " 8   Business Description       320 non-null    object \n",
      " 9   Company Website            309 non-null    object \n",
      " 10  Number of Presenters       320 non-null    int64  \n",
      " 11  Male Presenters            281 non-null    float64\n",
      " 12  Female Presenters          149 non-null    float64\n",
      " 13  Transgender Presenters     3 non-null      float64\n",
      " 14  Couple Presenters          315 non-null    float64\n",
      " 15  Pitchers Average Age       320 non-null    object \n",
      " 16  Started in                 184 non-null    float64\n",
      " 17  Pitchers City              320 non-null    object \n",
      " 18  Pitchers State             320 non-null    object \n",
      " 19  Yearly Revenue             134 non-null    float64\n",
      " 20  Monthly Sales              140 non-null    float64\n",
      " 21  Gross Margin               85 non-null     float64\n",
      " 22  Net Margin                 24 non-null     float64\n",
      " 23  Original Ask Amount        320 non-null    float64\n",
      " 24  Original Offered Equity    320 non-null    float64\n",
      " 25  Valuation Requested        320 non-null    float64\n",
      " 26  Received Offer             320 non-null    int64  \n",
      " 27  Accepted Offer             216 non-null    float64\n",
      " 28  Total Deal Amount          176 non-null    float64\n",
      " 29  Total Deal Equity          176 non-null    float64\n",
      " 30  Total Deal Debt            39 non-null     float64\n",
      " 31  Debt Interest              23 non-null     float64\n",
      " 32  Deal Valuation             176 non-null    float64\n",
      " 33  Number of sharks in deal   176 non-null    float64\n",
      " 34  Deal has conditions        8 non-null      object \n",
      " 35  Has Patents                7 non-null      float64\n",
      " 36  Ashneer Investment Amount  21 non-null     float64\n",
      " 37  Ashneer Investment Equity  21 non-null     float64\n",
      " 38  Ashneer Debt Amount        2 non-null      float64\n",
      " 39  Namita Investment Amount   66 non-null     float64\n",
      " 40  Namita Investment Equity   66 non-null     float64\n",
      " 41  Namita Debt Amount         13 non-null     float64\n",
      " 42  Anupam Investment Amount   51 non-null     float64\n",
      " 43  Anupam Investment Equity   51 non-null     float64\n",
      " 44  Anupam Debt Amount         4 non-null      float64\n",
      " 45  Vineeta Investment Amount  43 non-null     float64\n",
      " 46  Vineeta Investment Equity  43 non-null     float64\n",
      " 47  Vineeta Debt Amount        9 non-null      float64\n",
      " 48  Aman Investment Amount     73 non-null     float64\n",
      " 49  Aman Investment Equity     73 non-null     float64\n",
      " 50  Aman Debt Amount           8 non-null      float64\n",
      " 51  Peyush Investment Amount   69 non-null     float64\n",
      " 52  Peyush Investment Equity   69 non-null     float64\n",
      " 53  Peyush Debt Amount         11 non-null     float64\n",
      " 54  Ghazal Investment Amount   8 non-null      float64\n",
      " 55  Ghazal Investment Equity   8 non-null      float64\n",
      " 56  Ghazal Debt Amount         0 non-null      float64\n",
      " 57  Amit Investment Amount     21 non-null     float64\n",
      " 58  Amit Investment Equity     21 non-null     float64\n",
      " 59  Amit Debt Amount           4 non-null      float64\n",
      " 60  Guest Investment Amount    2 non-null      float64\n",
      " 61  Guest Investment Equity    2 non-null      float64\n",
      " 62  Guest Debt Amount          2 non-null      float64\n",
      " 63  Guest Name                 2 non-null      object \n",
      "dtypes: float64(47), int64(5), object(12)\n",
      "memory usage: 160.1+ KB\n"
     ]
    }
   ],
   "source": [
    "data.info()"
   ]
  },
  {
   "cell_type": "markdown",
   "id": "a131c516",
   "metadata": {},
   "source": [
    "**To find statistical information about the whole data we have to use \".describe()\"**"
   ]
  },
  {
   "cell_type": "code",
   "execution_count": 7,
   "id": "a243be63",
   "metadata": {},
   "outputs": [
    {
     "data": {
      "text/html": [
       "<div>\n",
       "<style scoped>\n",
       "    .dataframe tbody tr th:only-of-type {\n",
       "        vertical-align: middle;\n",
       "    }\n",
       "\n",
       "    .dataframe tbody tr th {\n",
       "        vertical-align: top;\n",
       "    }\n",
       "\n",
       "    .dataframe thead th {\n",
       "        text-align: right;\n",
       "    }\n",
       "</style>\n",
       "<table border=\"1\" class=\"dataframe\">\n",
       "  <thead>\n",
       "    <tr style=\"text-align: right;\">\n",
       "      <th></th>\n",
       "      <th>Season Number</th>\n",
       "      <th>Episode Number</th>\n",
       "      <th>Pitch Number</th>\n",
       "      <th>Number of Presenters</th>\n",
       "      <th>Male Presenters</th>\n",
       "      <th>Female Presenters</th>\n",
       "      <th>Transgender Presenters</th>\n",
       "      <th>Couple Presenters</th>\n",
       "      <th>Started in</th>\n",
       "      <th>Yearly Revenue</th>\n",
       "      <th>...</th>\n",
       "      <th>Peyush Debt Amount</th>\n",
       "      <th>Ghazal Investment Amount</th>\n",
       "      <th>Ghazal Investment Equity</th>\n",
       "      <th>Ghazal Debt Amount</th>\n",
       "      <th>Amit Investment Amount</th>\n",
       "      <th>Amit Investment Equity</th>\n",
       "      <th>Amit Debt Amount</th>\n",
       "      <th>Guest Investment Amount</th>\n",
       "      <th>Guest Investment Equity</th>\n",
       "      <th>Guest Debt Amount</th>\n",
       "    </tr>\n",
       "  </thead>\n",
       "  <tbody>\n",
       "    <tr>\n",
       "      <th>count</th>\n",
       "      <td>320.000000</td>\n",
       "      <td>320.000000</td>\n",
       "      <td>320.000000</td>\n",
       "      <td>320.000000</td>\n",
       "      <td>281.000000</td>\n",
       "      <td>149.000000</td>\n",
       "      <td>3.0</td>\n",
       "      <td>315.000000</td>\n",
       "      <td>184.000000</td>\n",
       "      <td>134.000000</td>\n",
       "      <td>...</td>\n",
       "      <td>11.000000</td>\n",
       "      <td>8.000000</td>\n",
       "      <td>8.000000</td>\n",
       "      <td>0.0</td>\n",
       "      <td>21.000000</td>\n",
       "      <td>21.000000</td>\n",
       "      <td>4.000000</td>\n",
       "      <td>2.000000</td>\n",
       "      <td>2.000000</td>\n",
       "      <td>2.000000</td>\n",
       "    </tr>\n",
       "    <tr>\n",
       "      <th>mean</th>\n",
       "      <td>1.525000</td>\n",
       "      <td>21.550000</td>\n",
       "      <td>160.500000</td>\n",
       "      <td>2.078125</td>\n",
       "      <td>1.722420</td>\n",
       "      <td>1.194631</td>\n",
       "      <td>1.0</td>\n",
       "      <td>0.187302</td>\n",
       "      <td>2018.472826</td>\n",
       "      <td>355.947761</td>\n",
       "      <td>...</td>\n",
       "      <td>31.090909</td>\n",
       "      <td>19.998782</td>\n",
       "      <td>6.462500</td>\n",
       "      <td>NaN</td>\n",
       "      <td>38.138571</td>\n",
       "      <td>5.190314</td>\n",
       "      <td>36.250000</td>\n",
       "      <td>32.750000</td>\n",
       "      <td>1.500000</td>\n",
       "      <td>23.500000</td>\n",
       "    </tr>\n",
       "    <tr>\n",
       "      <th>std</th>\n",
       "      <td>0.500157</td>\n",
       "      <td>14.676362</td>\n",
       "      <td>92.520268</td>\n",
       "      <td>0.847358</td>\n",
       "      <td>0.866744</td>\n",
       "      <td>0.429925</td>\n",
       "      <td>0.0</td>\n",
       "      <td>0.390774</td>\n",
       "      <td>2.495750</td>\n",
       "      <td>918.888781</td>\n",
       "      <td>...</td>\n",
       "      <td>15.332675</td>\n",
       "      <td>10.946848</td>\n",
       "      <td>5.326199</td>\n",
       "      <td>NaN</td>\n",
       "      <td>26.305707</td>\n",
       "      <td>5.599211</td>\n",
       "      <td>23.935678</td>\n",
       "      <td>10.960155</td>\n",
       "      <td>1.414214</td>\n",
       "      <td>15.556349</td>\n",
       "    </tr>\n",
       "    <tr>\n",
       "      <th>min</th>\n",
       "      <td>1.000000</td>\n",
       "      <td>0.000000</td>\n",
       "      <td>1.000000</td>\n",
       "      <td>1.000000</td>\n",
       "      <td>1.000000</td>\n",
       "      <td>1.000000</td>\n",
       "      <td>1.0</td>\n",
       "      <td>0.000000</td>\n",
       "      <td>2005.000000</td>\n",
       "      <td>-1.000000</td>\n",
       "      <td>...</td>\n",
       "      <td>10.000000</td>\n",
       "      <td>0.000253</td>\n",
       "      <td>1.000000</td>\n",
       "      <td>NaN</td>\n",
       "      <td>5.000000</td>\n",
       "      <td>1.000000</td>\n",
       "      <td>10.000000</td>\n",
       "      <td>25.000000</td>\n",
       "      <td>0.500000</td>\n",
       "      <td>12.500000</td>\n",
       "    </tr>\n",
       "    <tr>\n",
       "      <th>25%</th>\n",
       "      <td>1.000000</td>\n",
       "      <td>9.000000</td>\n",
       "      <td>80.750000</td>\n",
       "      <td>2.000000</td>\n",
       "      <td>1.000000</td>\n",
       "      <td>1.000000</td>\n",
       "      <td>1.0</td>\n",
       "      <td>0.000000</td>\n",
       "      <td>2017.000000</td>\n",
       "      <td>0.000000</td>\n",
       "      <td>...</td>\n",
       "      <td>23.500000</td>\n",
       "      <td>14.995000</td>\n",
       "      <td>4.050000</td>\n",
       "      <td>NaN</td>\n",
       "      <td>18.750000</td>\n",
       "      <td>1.500000</td>\n",
       "      <td>21.250000</td>\n",
       "      <td>28.875000</td>\n",
       "      <td>1.000000</td>\n",
       "      <td>18.000000</td>\n",
       "    </tr>\n",
       "    <tr>\n",
       "      <th>50%</th>\n",
       "      <td>2.000000</td>\n",
       "      <td>21.000000</td>\n",
       "      <td>160.500000</td>\n",
       "      <td>2.000000</td>\n",
       "      <td>2.000000</td>\n",
       "      <td>1.000000</td>\n",
       "      <td>1.0</td>\n",
       "      <td>0.000000</td>\n",
       "      <td>2019.000000</td>\n",
       "      <td>100.000000</td>\n",
       "      <td>...</td>\n",
       "      <td>25.000000</td>\n",
       "      <td>22.500000</td>\n",
       "      <td>5.000000</td>\n",
       "      <td>NaN</td>\n",
       "      <td>30.000000</td>\n",
       "      <td>3.000000</td>\n",
       "      <td>35.000000</td>\n",
       "      <td>32.750000</td>\n",
       "      <td>1.500000</td>\n",
       "      <td>23.500000</td>\n",
       "    </tr>\n",
       "    <tr>\n",
       "      <th>75%</th>\n",
       "      <td>2.000000</td>\n",
       "      <td>33.000000</td>\n",
       "      <td>240.250000</td>\n",
       "      <td>2.000000</td>\n",
       "      <td>2.000000</td>\n",
       "      <td>1.000000</td>\n",
       "      <td>1.0</td>\n",
       "      <td>0.000000</td>\n",
       "      <td>2020.000000</td>\n",
       "      <td>247.500000</td>\n",
       "      <td>...</td>\n",
       "      <td>40.000000</td>\n",
       "      <td>26.250000</td>\n",
       "      <td>7.750000</td>\n",
       "      <td>NaN</td>\n",
       "      <td>50.000000</td>\n",
       "      <td>5.000000</td>\n",
       "      <td>50.000000</td>\n",
       "      <td>36.625000</td>\n",
       "      <td>2.000000</td>\n",
       "      <td>29.000000</td>\n",
       "    </tr>\n",
       "    <tr>\n",
       "      <th>max</th>\n",
       "      <td>2.000000</td>\n",
       "      <td>51.000000</td>\n",
       "      <td>320.000000</td>\n",
       "      <td>6.000000</td>\n",
       "      <td>6.000000</td>\n",
       "      <td>3.000000</td>\n",
       "      <td>1.0</td>\n",
       "      <td>1.000000</td>\n",
       "      <td>2022.000000</td>\n",
       "      <td>7200.000000</td>\n",
       "      <td>...</td>\n",
       "      <td>60.000000</td>\n",
       "      <td>33.330000</td>\n",
       "      <td>17.500000</td>\n",
       "      <td>NaN</td>\n",
       "      <td>100.000000</td>\n",
       "      <td>20.000000</td>\n",
       "      <td>65.000000</td>\n",
       "      <td>40.500000</td>\n",
       "      <td>2.500000</td>\n",
       "      <td>34.500000</td>\n",
       "    </tr>\n",
       "  </tbody>\n",
       "</table>\n",
       "<p>8 rows × 52 columns</p>\n",
       "</div>"
      ],
      "text/plain": [
       "       Season Number  Episode Number  Pitch Number  Number of Presenters  \\\n",
       "count     320.000000      320.000000    320.000000            320.000000   \n",
       "mean        1.525000       21.550000    160.500000              2.078125   \n",
       "std         0.500157       14.676362     92.520268              0.847358   \n",
       "min         1.000000        0.000000      1.000000              1.000000   \n",
       "25%         1.000000        9.000000     80.750000              2.000000   \n",
       "50%         2.000000       21.000000    160.500000              2.000000   \n",
       "75%         2.000000       33.000000    240.250000              2.000000   \n",
       "max         2.000000       51.000000    320.000000              6.000000   \n",
       "\n",
       "       Male Presenters  Female Presenters  Transgender Presenters  \\\n",
       "count       281.000000         149.000000                     3.0   \n",
       "mean          1.722420           1.194631                     1.0   \n",
       "std           0.866744           0.429925                     0.0   \n",
       "min           1.000000           1.000000                     1.0   \n",
       "25%           1.000000           1.000000                     1.0   \n",
       "50%           2.000000           1.000000                     1.0   \n",
       "75%           2.000000           1.000000                     1.0   \n",
       "max           6.000000           3.000000                     1.0   \n",
       "\n",
       "       Couple Presenters   Started in  Yearly Revenue  ...  \\\n",
       "count         315.000000   184.000000      134.000000  ...   \n",
       "mean            0.187302  2018.472826      355.947761  ...   \n",
       "std             0.390774     2.495750      918.888781  ...   \n",
       "min             0.000000  2005.000000       -1.000000  ...   \n",
       "25%             0.000000  2017.000000        0.000000  ...   \n",
       "50%             0.000000  2019.000000      100.000000  ...   \n",
       "75%             0.000000  2020.000000      247.500000  ...   \n",
       "max             1.000000  2022.000000     7200.000000  ...   \n",
       "\n",
       "       Peyush Debt Amount  Ghazal Investment Amount  Ghazal Investment Equity  \\\n",
       "count           11.000000                  8.000000                  8.000000   \n",
       "mean            31.090909                 19.998782                  6.462500   \n",
       "std             15.332675                 10.946848                  5.326199   \n",
       "min             10.000000                  0.000253                  1.000000   \n",
       "25%             23.500000                 14.995000                  4.050000   \n",
       "50%             25.000000                 22.500000                  5.000000   \n",
       "75%             40.000000                 26.250000                  7.750000   \n",
       "max             60.000000                 33.330000                 17.500000   \n",
       "\n",
       "       Ghazal Debt Amount  Amit Investment Amount  Amit Investment Equity  \\\n",
       "count                 0.0               21.000000               21.000000   \n",
       "mean                  NaN               38.138571                5.190314   \n",
       "std                   NaN               26.305707                5.599211   \n",
       "min                   NaN                5.000000                1.000000   \n",
       "25%                   NaN               18.750000                1.500000   \n",
       "50%                   NaN               30.000000                3.000000   \n",
       "75%                   NaN               50.000000                5.000000   \n",
       "max                   NaN              100.000000               20.000000   \n",
       "\n",
       "       Amit Debt Amount  Guest Investment Amount  Guest Investment Equity  \\\n",
       "count          4.000000                 2.000000                 2.000000   \n",
       "mean          36.250000                32.750000                 1.500000   \n",
       "std           23.935678                10.960155                 1.414214   \n",
       "min           10.000000                25.000000                 0.500000   \n",
       "25%           21.250000                28.875000                 1.000000   \n",
       "50%           35.000000                32.750000                 1.500000   \n",
       "75%           50.000000                36.625000                 2.000000   \n",
       "max           65.000000                40.500000                 2.500000   \n",
       "\n",
       "       Guest Debt Amount  \n",
       "count           2.000000  \n",
       "mean           23.500000  \n",
       "std            15.556349  \n",
       "min            12.500000  \n",
       "25%            18.000000  \n",
       "50%            23.500000  \n",
       "75%            29.000000  \n",
       "max            34.500000  \n",
       "\n",
       "[8 rows x 52 columns]"
      ]
     },
     "execution_count": 7,
     "metadata": {},
     "output_type": "execute_result"
    }
   ],
   "source": [
    "data.describe()"
   ]
  },
  {
   "cell_type": "markdown",
   "id": "04319e12",
   "metadata": {},
   "source": [
    "**We have to drop unnecessary data columns.Before that we have to copy our data to other variable. So, that incase loss or data may corrupted, then we can restore our data.**"
   ]
  },
  {
   "cell_type": "code",
   "execution_count": 8,
   "id": "4f01772d",
   "metadata": {},
   "outputs": [
    {
     "data": {
      "text/html": [
       "<div>\n",
       "<style scoped>\n",
       "    .dataframe tbody tr th:only-of-type {\n",
       "        vertical-align: middle;\n",
       "    }\n",
       "\n",
       "    .dataframe tbody tr th {\n",
       "        vertical-align: top;\n",
       "    }\n",
       "\n",
       "    .dataframe thead th {\n",
       "        text-align: right;\n",
       "    }\n",
       "</style>\n",
       "<table border=\"1\" class=\"dataframe\">\n",
       "  <thead>\n",
       "    <tr style=\"text-align: right;\">\n",
       "      <th></th>\n",
       "      <th>Season Number</th>\n",
       "      <th>Season Start</th>\n",
       "      <th>Season End</th>\n",
       "      <th>Episode Number</th>\n",
       "      <th>Episode Title</th>\n",
       "      <th>Pitch Number</th>\n",
       "      <th>Startup Name</th>\n",
       "      <th>Industry</th>\n",
       "      <th>Business Description</th>\n",
       "      <th>Company Website</th>\n",
       "      <th>...</th>\n",
       "      <th>Ghazal Investment Amount</th>\n",
       "      <th>Ghazal Investment Equity</th>\n",
       "      <th>Ghazal Debt Amount</th>\n",
       "      <th>Amit Investment Amount</th>\n",
       "      <th>Amit Investment Equity</th>\n",
       "      <th>Amit Debt Amount</th>\n",
       "      <th>Guest Investment Amount</th>\n",
       "      <th>Guest Investment Equity</th>\n",
       "      <th>Guest Debt Amount</th>\n",
       "      <th>Guest Name</th>\n",
       "    </tr>\n",
       "  </thead>\n",
       "  <tbody>\n",
       "    <tr>\n",
       "      <th>0</th>\n",
       "      <td>1</td>\n",
       "      <td>20-Dec-21</td>\n",
       "      <td>04-Feb-22</td>\n",
       "      <td>1</td>\n",
       "      <td>Badlegi Business Ki Tasveer</td>\n",
       "      <td>1</td>\n",
       "      <td>BluePineFoods</td>\n",
       "      <td>Food</td>\n",
       "      <td>Frozen Momos</td>\n",
       "      <td>https://bluepinefoods.com/</td>\n",
       "      <td>...</td>\n",
       "      <td>NaN</td>\n",
       "      <td>NaN</td>\n",
       "      <td>NaN</td>\n",
       "      <td>NaN</td>\n",
       "      <td>NaN</td>\n",
       "      <td>NaN</td>\n",
       "      <td>NaN</td>\n",
       "      <td>NaN</td>\n",
       "      <td>NaN</td>\n",
       "      <td>NaN</td>\n",
       "    </tr>\n",
       "    <tr>\n",
       "      <th>1</th>\n",
       "      <td>1</td>\n",
       "      <td>20-Dec-21</td>\n",
       "      <td>04-Feb-22</td>\n",
       "      <td>1</td>\n",
       "      <td>Badlegi Business Ki Tasveer</td>\n",
       "      <td>2</td>\n",
       "      <td>BoozScooters</td>\n",
       "      <td>Vehicles/Electrical Vehicles</td>\n",
       "      <td>Renting e-bike for mobility in private spaces</td>\n",
       "      <td>https://www.boozup.net/</td>\n",
       "      <td>...</td>\n",
       "      <td>NaN</td>\n",
       "      <td>NaN</td>\n",
       "      <td>NaN</td>\n",
       "      <td>NaN</td>\n",
       "      <td>NaN</td>\n",
       "      <td>NaN</td>\n",
       "      <td>NaN</td>\n",
       "      <td>NaN</td>\n",
       "      <td>NaN</td>\n",
       "      <td>NaN</td>\n",
       "    </tr>\n",
       "    <tr>\n",
       "      <th>2</th>\n",
       "      <td>1</td>\n",
       "      <td>20-Dec-21</td>\n",
       "      <td>04-Feb-22</td>\n",
       "      <td>1</td>\n",
       "      <td>Badlegi Business Ki Tasveer</td>\n",
       "      <td>3</td>\n",
       "      <td>HeartUpMySleeves</td>\n",
       "      <td>Beauty/Fashion</td>\n",
       "      <td>Detachable Sleeves</td>\n",
       "      <td>https://heartupmysleeves.com/</td>\n",
       "      <td>...</td>\n",
       "      <td>NaN</td>\n",
       "      <td>NaN</td>\n",
       "      <td>NaN</td>\n",
       "      <td>NaN</td>\n",
       "      <td>NaN</td>\n",
       "      <td>NaN</td>\n",
       "      <td>NaN</td>\n",
       "      <td>NaN</td>\n",
       "      <td>NaN</td>\n",
       "      <td>NaN</td>\n",
       "    </tr>\n",
       "    <tr>\n",
       "      <th>3</th>\n",
       "      <td>1</td>\n",
       "      <td>20-Dec-21</td>\n",
       "      <td>04-Feb-22</td>\n",
       "      <td>2</td>\n",
       "      <td>Insaan, Ideas Aur Sapne</td>\n",
       "      <td>4</td>\n",
       "      <td>TagzFoods</td>\n",
       "      <td>Food</td>\n",
       "      <td>Healthy Potato Chips Snacks</td>\n",
       "      <td>https://tagzfoods.com/</td>\n",
       "      <td>...</td>\n",
       "      <td>NaN</td>\n",
       "      <td>NaN</td>\n",
       "      <td>NaN</td>\n",
       "      <td>NaN</td>\n",
       "      <td>NaN</td>\n",
       "      <td>NaN</td>\n",
       "      <td>NaN</td>\n",
       "      <td>NaN</td>\n",
       "      <td>NaN</td>\n",
       "      <td>NaN</td>\n",
       "    </tr>\n",
       "    <tr>\n",
       "      <th>4</th>\n",
       "      <td>1</td>\n",
       "      <td>20-Dec-21</td>\n",
       "      <td>04-Feb-22</td>\n",
       "      <td>2</td>\n",
       "      <td>Insaan, Ideas Aur Sapne</td>\n",
       "      <td>5</td>\n",
       "      <td>HeadAndHeart</td>\n",
       "      <td>Education</td>\n",
       "      <td>Brain Development Course</td>\n",
       "      <td>https://thehnh.in/</td>\n",
       "      <td>...</td>\n",
       "      <td>NaN</td>\n",
       "      <td>NaN</td>\n",
       "      <td>NaN</td>\n",
       "      <td>NaN</td>\n",
       "      <td>NaN</td>\n",
       "      <td>NaN</td>\n",
       "      <td>NaN</td>\n",
       "      <td>NaN</td>\n",
       "      <td>NaN</td>\n",
       "      <td>NaN</td>\n",
       "    </tr>\n",
       "  </tbody>\n",
       "</table>\n",
       "<p>5 rows × 64 columns</p>\n",
       "</div>"
      ],
      "text/plain": [
       "   Season Number Season Start Season End  Episode Number  \\\n",
       "0              1    20-Dec-21  04-Feb-22               1   \n",
       "1              1    20-Dec-21  04-Feb-22               1   \n",
       "2              1    20-Dec-21  04-Feb-22               1   \n",
       "3              1    20-Dec-21  04-Feb-22               2   \n",
       "4              1    20-Dec-21  04-Feb-22               2   \n",
       "\n",
       "                 Episode Title  Pitch Number      Startup Name  \\\n",
       "0  Badlegi Business Ki Tasveer             1     BluePineFoods   \n",
       "1  Badlegi Business Ki Tasveer             2      BoozScooters   \n",
       "2  Badlegi Business Ki Tasveer             3  HeartUpMySleeves   \n",
       "3      Insaan, Ideas Aur Sapne             4         TagzFoods   \n",
       "4      Insaan, Ideas Aur Sapne             5      HeadAndHeart   \n",
       "\n",
       "                       Industry  \\\n",
       "0                          Food   \n",
       "1  Vehicles/Electrical Vehicles   \n",
       "2                Beauty/Fashion   \n",
       "3                          Food   \n",
       "4                     Education   \n",
       "\n",
       "                            Business Description  \\\n",
       "0                                   Frozen Momos   \n",
       "1  Renting e-bike for mobility in private spaces   \n",
       "2                             Detachable Sleeves   \n",
       "3                    Healthy Potato Chips Snacks   \n",
       "4                       Brain Development Course   \n",
       "\n",
       "                 Company Website  ...  Ghazal Investment Amount  \\\n",
       "0     https://bluepinefoods.com/  ...                       NaN   \n",
       "1        https://www.boozup.net/  ...                       NaN   \n",
       "2  https://heartupmysleeves.com/  ...                       NaN   \n",
       "3         https://tagzfoods.com/  ...                       NaN   \n",
       "4             https://thehnh.in/  ...                       NaN   \n",
       "\n",
       "   Ghazal Investment Equity  Ghazal Debt Amount  Amit Investment Amount  \\\n",
       "0                       NaN                 NaN                     NaN   \n",
       "1                       NaN                 NaN                     NaN   \n",
       "2                       NaN                 NaN                     NaN   \n",
       "3                       NaN                 NaN                     NaN   \n",
       "4                       NaN                 NaN                     NaN   \n",
       "\n",
       "   Amit Investment Equity Amit Debt Amount  Guest Investment Amount  \\\n",
       "0                     NaN              NaN                      NaN   \n",
       "1                     NaN              NaN                      NaN   \n",
       "2                     NaN              NaN                      NaN   \n",
       "3                     NaN              NaN                      NaN   \n",
       "4                     NaN              NaN                      NaN   \n",
       "\n",
       "  Guest Investment Equity Guest Debt Amount  Guest Name  \n",
       "0                     NaN               NaN         NaN  \n",
       "1                     NaN               NaN         NaN  \n",
       "2                     NaN               NaN         NaN  \n",
       "3                     NaN               NaN         NaN  \n",
       "4                     NaN               NaN         NaN  \n",
       "\n",
       "[5 rows x 64 columns]"
      ]
     },
     "execution_count": 8,
     "metadata": {},
     "output_type": "execute_result"
    }
   ],
   "source": [
    "df = data.copy()\n",
    "df.head()"
   ]
  },
  {
   "cell_type": "markdown",
   "id": "1201dd10",
   "metadata": {},
   "source": [
    "**Dropping columns \"Season Start\",\"Season End\",\"Episode Number\",\"Episode Title\",\"**"
   ]
  },
  {
   "cell_type": "code",
   "execution_count": 9,
   "id": "eda450af",
   "metadata": {},
   "outputs": [],
   "source": [
    "df.drop('Season Start',axis=1,inplace=True)\n",
    "df.drop('Season End', axis=1, inplace=True)\n",
    "df.drop('Episode Number',axis=1,inplace=True)\n",
    "df.drop('Episode Title', axis=1, inplace=True)\n"
   ]
  },
  {
   "cell_type": "code",
   "execution_count": 10,
   "id": "49e315f2",
   "metadata": {},
   "outputs": [
    {
     "data": {
      "text/html": [
       "<div>\n",
       "<style scoped>\n",
       "    .dataframe tbody tr th:only-of-type {\n",
       "        vertical-align: middle;\n",
       "    }\n",
       "\n",
       "    .dataframe tbody tr th {\n",
       "        vertical-align: top;\n",
       "    }\n",
       "\n",
       "    .dataframe thead th {\n",
       "        text-align: right;\n",
       "    }\n",
       "</style>\n",
       "<table border=\"1\" class=\"dataframe\">\n",
       "  <thead>\n",
       "    <tr style=\"text-align: right;\">\n",
       "      <th></th>\n",
       "      <th>Season Number</th>\n",
       "      <th>Pitch Number</th>\n",
       "      <th>Startup Name</th>\n",
       "      <th>Industry</th>\n",
       "      <th>Business Description</th>\n",
       "      <th>Company Website</th>\n",
       "      <th>Number of Presenters</th>\n",
       "      <th>Male Presenters</th>\n",
       "      <th>Female Presenters</th>\n",
       "      <th>Transgender Presenters</th>\n",
       "      <th>...</th>\n",
       "      <th>Ghazal Investment Amount</th>\n",
       "      <th>Ghazal Investment Equity</th>\n",
       "      <th>Ghazal Debt Amount</th>\n",
       "      <th>Amit Investment Amount</th>\n",
       "      <th>Amit Investment Equity</th>\n",
       "      <th>Amit Debt Amount</th>\n",
       "      <th>Guest Investment Amount</th>\n",
       "      <th>Guest Investment Equity</th>\n",
       "      <th>Guest Debt Amount</th>\n",
       "      <th>Guest Name</th>\n",
       "    </tr>\n",
       "  </thead>\n",
       "  <tbody>\n",
       "    <tr>\n",
       "      <th>0</th>\n",
       "      <td>1</td>\n",
       "      <td>1</td>\n",
       "      <td>BluePineFoods</td>\n",
       "      <td>Food</td>\n",
       "      <td>Frozen Momos</td>\n",
       "      <td>https://bluepinefoods.com/</td>\n",
       "      <td>3</td>\n",
       "      <td>2.0</td>\n",
       "      <td>1.0</td>\n",
       "      <td>NaN</td>\n",
       "      <td>...</td>\n",
       "      <td>NaN</td>\n",
       "      <td>NaN</td>\n",
       "      <td>NaN</td>\n",
       "      <td>NaN</td>\n",
       "      <td>NaN</td>\n",
       "      <td>NaN</td>\n",
       "      <td>NaN</td>\n",
       "      <td>NaN</td>\n",
       "      <td>NaN</td>\n",
       "      <td>NaN</td>\n",
       "    </tr>\n",
       "    <tr>\n",
       "      <th>1</th>\n",
       "      <td>1</td>\n",
       "      <td>2</td>\n",
       "      <td>BoozScooters</td>\n",
       "      <td>Vehicles/Electrical Vehicles</td>\n",
       "      <td>Renting e-bike for mobility in private spaces</td>\n",
       "      <td>https://www.boozup.net/</td>\n",
       "      <td>1</td>\n",
       "      <td>1.0</td>\n",
       "      <td>NaN</td>\n",
       "      <td>NaN</td>\n",
       "      <td>...</td>\n",
       "      <td>NaN</td>\n",
       "      <td>NaN</td>\n",
       "      <td>NaN</td>\n",
       "      <td>NaN</td>\n",
       "      <td>NaN</td>\n",
       "      <td>NaN</td>\n",
       "      <td>NaN</td>\n",
       "      <td>NaN</td>\n",
       "      <td>NaN</td>\n",
       "      <td>NaN</td>\n",
       "    </tr>\n",
       "    <tr>\n",
       "      <th>2</th>\n",
       "      <td>1</td>\n",
       "      <td>3</td>\n",
       "      <td>HeartUpMySleeves</td>\n",
       "      <td>Beauty/Fashion</td>\n",
       "      <td>Detachable Sleeves</td>\n",
       "      <td>https://heartupmysleeves.com/</td>\n",
       "      <td>1</td>\n",
       "      <td>NaN</td>\n",
       "      <td>1.0</td>\n",
       "      <td>NaN</td>\n",
       "      <td>...</td>\n",
       "      <td>NaN</td>\n",
       "      <td>NaN</td>\n",
       "      <td>NaN</td>\n",
       "      <td>NaN</td>\n",
       "      <td>NaN</td>\n",
       "      <td>NaN</td>\n",
       "      <td>NaN</td>\n",
       "      <td>NaN</td>\n",
       "      <td>NaN</td>\n",
       "      <td>NaN</td>\n",
       "    </tr>\n",
       "    <tr>\n",
       "      <th>3</th>\n",
       "      <td>1</td>\n",
       "      <td>4</td>\n",
       "      <td>TagzFoods</td>\n",
       "      <td>Food</td>\n",
       "      <td>Healthy Potato Chips Snacks</td>\n",
       "      <td>https://tagzfoods.com/</td>\n",
       "      <td>2</td>\n",
       "      <td>2.0</td>\n",
       "      <td>NaN</td>\n",
       "      <td>NaN</td>\n",
       "      <td>...</td>\n",
       "      <td>NaN</td>\n",
       "      <td>NaN</td>\n",
       "      <td>NaN</td>\n",
       "      <td>NaN</td>\n",
       "      <td>NaN</td>\n",
       "      <td>NaN</td>\n",
       "      <td>NaN</td>\n",
       "      <td>NaN</td>\n",
       "      <td>NaN</td>\n",
       "      <td>NaN</td>\n",
       "    </tr>\n",
       "    <tr>\n",
       "      <th>4</th>\n",
       "      <td>1</td>\n",
       "      <td>5</td>\n",
       "      <td>HeadAndHeart</td>\n",
       "      <td>Education</td>\n",
       "      <td>Brain Development Course</td>\n",
       "      <td>https://thehnh.in/</td>\n",
       "      <td>4</td>\n",
       "      <td>1.0</td>\n",
       "      <td>3.0</td>\n",
       "      <td>NaN</td>\n",
       "      <td>...</td>\n",
       "      <td>NaN</td>\n",
       "      <td>NaN</td>\n",
       "      <td>NaN</td>\n",
       "      <td>NaN</td>\n",
       "      <td>NaN</td>\n",
       "      <td>NaN</td>\n",
       "      <td>NaN</td>\n",
       "      <td>NaN</td>\n",
       "      <td>NaN</td>\n",
       "      <td>NaN</td>\n",
       "    </tr>\n",
       "  </tbody>\n",
       "</table>\n",
       "<p>5 rows × 60 columns</p>\n",
       "</div>"
      ],
      "text/plain": [
       "   Season Number  Pitch Number      Startup Name  \\\n",
       "0              1             1     BluePineFoods   \n",
       "1              1             2      BoozScooters   \n",
       "2              1             3  HeartUpMySleeves   \n",
       "3              1             4         TagzFoods   \n",
       "4              1             5      HeadAndHeart   \n",
       "\n",
       "                       Industry  \\\n",
       "0                          Food   \n",
       "1  Vehicles/Electrical Vehicles   \n",
       "2                Beauty/Fashion   \n",
       "3                          Food   \n",
       "4                     Education   \n",
       "\n",
       "                            Business Description  \\\n",
       "0                                   Frozen Momos   \n",
       "1  Renting e-bike for mobility in private spaces   \n",
       "2                             Detachable Sleeves   \n",
       "3                    Healthy Potato Chips Snacks   \n",
       "4                       Brain Development Course   \n",
       "\n",
       "                 Company Website  Number of Presenters  Male Presenters  \\\n",
       "0     https://bluepinefoods.com/                     3              2.0   \n",
       "1        https://www.boozup.net/                     1              1.0   \n",
       "2  https://heartupmysleeves.com/                     1              NaN   \n",
       "3         https://tagzfoods.com/                     2              2.0   \n",
       "4             https://thehnh.in/                     4              1.0   \n",
       "\n",
       "   Female Presenters  Transgender Presenters  ...  Ghazal Investment Amount  \\\n",
       "0                1.0                     NaN  ...                       NaN   \n",
       "1                NaN                     NaN  ...                       NaN   \n",
       "2                1.0                     NaN  ...                       NaN   \n",
       "3                NaN                     NaN  ...                       NaN   \n",
       "4                3.0                     NaN  ...                       NaN   \n",
       "\n",
       "  Ghazal Investment Equity  Ghazal Debt Amount Amit Investment Amount  \\\n",
       "0                      NaN                 NaN                    NaN   \n",
       "1                      NaN                 NaN                    NaN   \n",
       "2                      NaN                 NaN                    NaN   \n",
       "3                      NaN                 NaN                    NaN   \n",
       "4                      NaN                 NaN                    NaN   \n",
       "\n",
       "  Amit Investment Equity  Amit Debt Amount  Guest Investment Amount  \\\n",
       "0                    NaN               NaN                      NaN   \n",
       "1                    NaN               NaN                      NaN   \n",
       "2                    NaN               NaN                      NaN   \n",
       "3                    NaN               NaN                      NaN   \n",
       "4                    NaN               NaN                      NaN   \n",
       "\n",
       "   Guest Investment Equity  Guest Debt Amount  Guest Name  \n",
       "0                      NaN                NaN         NaN  \n",
       "1                      NaN                NaN         NaN  \n",
       "2                      NaN                NaN         NaN  \n",
       "3                      NaN                NaN         NaN  \n",
       "4                      NaN                NaN         NaN  \n",
       "\n",
       "[5 rows x 60 columns]"
      ]
     },
     "execution_count": 10,
     "metadata": {},
     "output_type": "execute_result"
    }
   ],
   "source": [
    "df.head()"
   ]
  },
  {
   "cell_type": "markdown",
   "id": "57b3be21",
   "metadata": {},
   "source": [
    "**From the above information we can check that the data types of columns \"Male Presenters\", \"Female Presenters\", \"Transgender Presenters\", \"Started in\",  all are in floating type. We have change into integers.**"
   ]
  },
  {
   "cell_type": "code",
   "execution_count": 11,
   "id": "05790b02",
   "metadata": {},
   "outputs": [],
   "source": [
    "df['Male Presenters'] = df['Male Presenters'].astype('Int64')\n",
    "df['Female Presenters'] = df['Female Presenters'].astype('Int64')\n",
    "df['Transgender Presenters'] = df['Transgender Presenters'].astype('Int64')\n",
    "df['Started in'] = df['Started in'].astype('Int64')"
   ]
  },
  {
   "cell_type": "markdown",
   "id": "19f4c5db",
   "metadata": {},
   "source": [
    "**Checking that data types is changed or not.**"
   ]
  },
  {
   "cell_type": "code",
   "execution_count": 12,
   "id": "b0693d84",
   "metadata": {},
   "outputs": [
    {
     "name": "stdout",
     "output_type": "stream",
     "text": [
      "Int64\n",
      "Int64\n",
      "Int64\n",
      "Int64\n"
     ]
    }
   ],
   "source": [
    "print(df['Male Presenters'].dtype)\n",
    "print(df['Female Presenters'].dtype)\n",
    "print(df['Transgender Presenters'].dtype)\n",
    "print(df['Started in'].dtype)"
   ]
  },
  {
   "cell_type": "markdown",
   "id": "55fbd0f8",
   "metadata": {},
   "source": [
    "**Filling zero inplace of \"Na\" in the above column.**"
   ]
  },
  {
   "cell_type": "code",
   "execution_count": 60,
   "id": "7033441f",
   "metadata": {},
   "outputs": [],
   "source": [
    "df['Male Presenters']=df['Male Presenters'].fillna(0)\n",
    "df['Female Presenters'] =df['Female Presenters'].fillna(0)\n",
    "df['Transgender Presenters'] =df['Transgender Presenters'].fillna(0)\n"
   ]
  },
  {
   "cell_type": "markdown",
   "id": "b06bf7e5",
   "metadata": {},
   "source": [
    "**Now checking Investment Amount all the sharks.In investment amount columns contains NaN. We replace NaN by zero. So, that we able to find total invesment amount**"
   ]
  },
  {
   "cell_type": "code",
   "execution_count": 13,
   "id": "861aa272",
   "metadata": {},
   "outputs": [],
   "source": [
    "df[\"Ghazal Investment Amount\"] = df[\"Ghazal Investment Amount\"].fillna(0)\n",
    "df[\"Peyush Investment Amount\"] = df[\"Peyush Investment Amount\"].fillna(0)\n",
    "df[\"Ashneer Investment Amount\"] = df[\"Ashneer Investment Amount\"].fillna(0)\n",
    "df[\"Namita Investment Amount\"] = df[\"Namita Investment Amount\"].fillna(0)\n",
    "df[\"Anupam Investment Amount\"] = df[\"Anupam Investment Amount\"].fillna(0)\n",
    "df[\"Aman Investment Amount\"] = df[\"Aman Investment Amount\"].fillna(0)\n",
    "df[\"Vineeta Investment Amount\"] = df[\"Vineeta Investment Amount\"].fillna(0)"
   ]
  },
  {
   "cell_type": "code",
   "execution_count": 14,
   "id": "caa269ed",
   "metadata": {},
   "outputs": [
    {
     "name": "stdout",
     "output_type": "stream",
     "text": [
      "<class 'pandas.core.frame.DataFrame'>\n",
      "RangeIndex: 320 entries, 0 to 319\n",
      "Data columns (total 60 columns):\n",
      " #   Column                     Non-Null Count  Dtype  \n",
      "---  ------                     --------------  -----  \n",
      " 0   Season Number              320 non-null    int64  \n",
      " 1   Pitch Number               320 non-null    int64  \n",
      " 2   Startup Name               320 non-null    object \n",
      " 3   Industry                   320 non-null    object \n",
      " 4   Business Description       320 non-null    object \n",
      " 5   Company Website            309 non-null    object \n",
      " 6   Number of Presenters       320 non-null    int64  \n",
      " 7   Male Presenters            281 non-null    Int64  \n",
      " 8   Female Presenters          149 non-null    Int64  \n",
      " 9   Transgender Presenters     3 non-null      Int64  \n",
      " 10  Couple Presenters          315 non-null    float64\n",
      " 11  Pitchers Average Age       320 non-null    object \n",
      " 12  Started in                 184 non-null    Int64  \n",
      " 13  Pitchers City              320 non-null    object \n",
      " 14  Pitchers State             320 non-null    object \n",
      " 15  Yearly Revenue             134 non-null    float64\n",
      " 16  Monthly Sales              140 non-null    float64\n",
      " 17  Gross Margin               85 non-null     float64\n",
      " 18  Net Margin                 24 non-null     float64\n",
      " 19  Original Ask Amount        320 non-null    float64\n",
      " 20  Original Offered Equity    320 non-null    float64\n",
      " 21  Valuation Requested        320 non-null    float64\n",
      " 22  Received Offer             320 non-null    int64  \n",
      " 23  Accepted Offer             216 non-null    float64\n",
      " 24  Total Deal Amount          176 non-null    float64\n",
      " 25  Total Deal Equity          176 non-null    float64\n",
      " 26  Total Deal Debt            39 non-null     float64\n",
      " 27  Debt Interest              23 non-null     float64\n",
      " 28  Deal Valuation             176 non-null    float64\n",
      " 29  Number of sharks in deal   176 non-null    float64\n",
      " 30  Deal has conditions        8 non-null      object \n",
      " 31  Has Patents                7 non-null      float64\n",
      " 32  Ashneer Investment Amount  320 non-null    float64\n",
      " 33  Ashneer Investment Equity  21 non-null     float64\n",
      " 34  Ashneer Debt Amount        2 non-null      float64\n",
      " 35  Namita Investment Amount   320 non-null    float64\n",
      " 36  Namita Investment Equity   66 non-null     float64\n",
      " 37  Namita Debt Amount         13 non-null     float64\n",
      " 38  Anupam Investment Amount   320 non-null    float64\n",
      " 39  Anupam Investment Equity   51 non-null     float64\n",
      " 40  Anupam Debt Amount         4 non-null      float64\n",
      " 41  Vineeta Investment Amount  320 non-null    float64\n",
      " 42  Vineeta Investment Equity  43 non-null     float64\n",
      " 43  Vineeta Debt Amount        9 non-null      float64\n",
      " 44  Aman Investment Amount     320 non-null    float64\n",
      " 45  Aman Investment Equity     73 non-null     float64\n",
      " 46  Aman Debt Amount           8 non-null      float64\n",
      " 47  Peyush Investment Amount   320 non-null    float64\n",
      " 48  Peyush Investment Equity   69 non-null     float64\n",
      " 49  Peyush Debt Amount         11 non-null     float64\n",
      " 50  Ghazal Investment Amount   320 non-null    float64\n",
      " 51  Ghazal Investment Equity   8 non-null      float64\n",
      " 52  Ghazal Debt Amount         0 non-null      float64\n",
      " 53  Amit Investment Amount     21 non-null     float64\n",
      " 54  Amit Investment Equity     21 non-null     float64\n",
      " 55  Amit Debt Amount           4 non-null      float64\n",
      " 56  Guest Investment Amount    2 non-null      float64\n",
      " 57  Guest Investment Equity    2 non-null      float64\n",
      " 58  Guest Debt Amount          2 non-null      float64\n",
      " 59  Guest Name                 2 non-null      object \n",
      "dtypes: Int64(4), float64(43), int64(4), object(9)\n",
      "memory usage: 151.4+ KB\n"
     ]
    }
   ],
   "source": [
    "df.info()"
   ]
  },
  {
   "cell_type": "markdown",
   "id": "136ed778",
   "metadata": {},
   "source": [
    "**Finding total invesment amount of all the sharks in the season 1.**"
   ]
  },
  {
   "cell_type": "code",
   "execution_count": 15,
   "id": "4ff30fff",
   "metadata": {},
   "outputs": [
    {
     "name": "stdout",
     "output_type": "stream",
     "text": [
      "539.3299999999999\n"
     ]
    }
   ],
   "source": [
    "# Ashneer Total Investment Amount\n",
    "as_s1 =0\n",
    "for i in range(0,319):\n",
    "    if (df.iloc[i,0] == 1 ):\n",
    "        as_s1 = as_s1 + df.iloc[i,32]\n",
    "print(as_s1)\n"
   ]
  },
  {
   "cell_type": "code",
   "execution_count": 16,
   "id": "f8f9c8ea",
   "metadata": {},
   "outputs": [
    {
     "name": "stdout",
     "output_type": "stream",
     "text": [
      "708.6302685\n"
     ]
    }
   ],
   "source": [
    "# Namita Total Investment Amount\n",
    "nmi_s1 =0\n",
    "for i in range(0,319):\n",
    "    if (df.iloc[i,0] == 1 ):\n",
    "        nmi_s1 = nmi_s1 + df.iloc[i,35]\n",
    "print(nmi_s1)\n"
   ]
  },
  {
   "cell_type": "code",
   "execution_count": 17,
   "id": "f5a58201",
   "metadata": {},
   "outputs": [
    {
     "name": "stdout",
     "output_type": "stream",
     "text": [
      "536.3302685000001\n"
     ]
    }
   ],
   "source": [
    "# Anupam Total Investment Amount\n",
    "anu_s1 =0\n",
    "for i in range(0,319):\n",
    "    if (df.iloc[i,0] == 1 ):\n",
    "        anu_s1 = anu_s1 + df.iloc[i,38]\n",
    "print(anu_s1)\n"
   ]
  },
  {
   "cell_type": "code",
   "execution_count": 18,
   "id": "e6411268",
   "metadata": {},
   "outputs": [
    {
     "name": "stdout",
     "output_type": "stream",
     "text": [
      "363.62\n"
     ]
    }
   ],
   "source": [
    "# Vineeta Total Investment Amount\n",
    "vi_s1 =0\n",
    "for i in range(0,319):\n",
    "    if (df.iloc[i,0] == 1 ):\n",
    "        vi_s1 = vi_s1 + df.iloc[i,41]\n",
    "print(vi_s1)\n"
   ]
  },
  {
   "cell_type": "code",
   "execution_count": 19,
   "id": "2ac4eb3d",
   "metadata": {},
   "outputs": [
    {
     "name": "stdout",
     "output_type": "stream",
     "text": [
      "896.990016\n"
     ]
    }
   ],
   "source": [
    "# Aman Total Investment Amount\n",
    "am_s1 =0\n",
    "for i in range(0,319):\n",
    "    if (df.iloc[i,0] == 1 ):\n",
    "        am_s1 = am_s1 + df.iloc[i,44]\n",
    "print(am_s1)\n"
   ]
  },
  {
   "cell_type": "code",
   "execution_count": 20,
   "id": "486e80c6",
   "metadata": {},
   "outputs": [
    {
     "name": "stdout",
     "output_type": "stream",
     "text": [
      "819.6502525\n"
     ]
    }
   ],
   "source": [
    "# Peyush Total Investment Amount\n",
    "py_s1 =0\n",
    "for i in range(0,319):\n",
    "    if (df.iloc[i,0] == 1 ):\n",
    "        py_s1 = py_s1 + df.iloc[i,47]\n",
    "print(py_s1)\n"
   ]
  },
  {
   "cell_type": "code",
   "execution_count": 21,
   "id": "5dcef08f",
   "metadata": {},
   "outputs": [
    {
     "name": "stdout",
     "output_type": "stream",
     "text": [
      "159.9902525\n"
     ]
    }
   ],
   "source": [
    "#Ghazal Total Investment Amount\n",
    "G_s1 =0\n",
    "for i in range(0,319):\n",
    "    if (df.iloc[i,0] == 1 ):\n",
    "        G_s1 = G_s1 + df.iloc[i,50]\n",
    "print(G_s1)"
   ]
  },
  {
   "cell_type": "code",
   "execution_count": 22,
   "id": "2c804392",
   "metadata": {},
   "outputs": [
    {
     "data": {
      "text/html": [
       "<div>\n",
       "<style scoped>\n",
       "    .dataframe tbody tr th:only-of-type {\n",
       "        vertical-align: middle;\n",
       "    }\n",
       "\n",
       "    .dataframe tbody tr th {\n",
       "        vertical-align: top;\n",
       "    }\n",
       "\n",
       "    .dataframe thead th {\n",
       "        text-align: right;\n",
       "    }\n",
       "</style>\n",
       "<table border=\"1\" class=\"dataframe\">\n",
       "  <thead>\n",
       "    <tr style=\"text-align: right;\">\n",
       "      <th></th>\n",
       "      <th>0</th>\n",
       "      <th>1</th>\n",
       "    </tr>\n",
       "  </thead>\n",
       "  <tbody>\n",
       "    <tr>\n",
       "      <th>0</th>\n",
       "      <td>Peyush</td>\n",
       "      <td>820.0</td>\n",
       "    </tr>\n",
       "    <tr>\n",
       "      <th>1</th>\n",
       "      <td>Ashneer</td>\n",
       "      <td>539.0</td>\n",
       "    </tr>\n",
       "    <tr>\n",
       "      <th>2</th>\n",
       "      <td>Namita</td>\n",
       "      <td>709.0</td>\n",
       "    </tr>\n",
       "    <tr>\n",
       "      <th>3</th>\n",
       "      <td>Anupam</td>\n",
       "      <td>536.0</td>\n",
       "    </tr>\n",
       "    <tr>\n",
       "      <th>4</th>\n",
       "      <td>Aman</td>\n",
       "      <td>897.0</td>\n",
       "    </tr>\n",
       "    <tr>\n",
       "      <th>5</th>\n",
       "      <td>Vineeta</td>\n",
       "      <td>364.0</td>\n",
       "    </tr>\n",
       "    <tr>\n",
       "      <th>6</th>\n",
       "      <td>Ghazal</td>\n",
       "      <td>160.0</td>\n",
       "    </tr>\n",
       "  </tbody>\n",
       "</table>\n",
       "</div>"
      ],
      "text/plain": [
       "         0      1\n",
       "0   Peyush  820.0\n",
       "1  Ashneer  539.0\n",
       "2   Namita  709.0\n",
       "3   Anupam  536.0\n",
       "4     Aman  897.0\n",
       "5  Vineeta  364.0\n",
       "6   Ghazal  160.0"
      ]
     },
     "execution_count": 22,
     "metadata": {},
     "output_type": "execute_result"
    }
   ],
   "source": [
    "# Making pandas dataframe from the above data\n",
    "investment_s1 = [py_s1,as_s1,nmi_s1,anu_s1,am_s1,vi_s1,G_s1]\n",
    "investment_s1\n",
    "name = [\"Peyush\",\"Ashneer\",\"Namita\",\"Anupam\",\"Aman\",\"Vineeta\",\"Ghazal\"]\n",
    "data_s1 = pd.DataFrame(list(zip(name,investment_s1)))\n",
    "data_s1 = round(data_s1)\n",
    "data_s1"
   ]
  },
  {
   "cell_type": "code",
   "execution_count": 23,
   "id": "31795a50",
   "metadata": {},
   "outputs": [
    {
     "name": "stdout",
     "output_type": "stream",
     "text": [
      "      Name  Total Investment Amount (lakhs)\n",
      "0   Peyush                            820.0\n",
      "1  Ashneer                            539.0\n",
      "2   Namita                            709.0\n",
      "3   Anupam                            536.0\n",
      "4     Aman                            897.0\n",
      "5  Vineeta                            364.0\n",
      "6   Ghazal                            160.0\n"
     ]
    }
   ],
   "source": [
    "#Adding columns to the dataframe\n",
    "\n",
    "column_name = ['Name', 'Total Investment Amount (lakhs)']\n",
    "data_s1.columns = column_name\n",
    "print(data_s1)"
   ]
  },
  {
   "cell_type": "markdown",
   "id": "7744a84f",
   "metadata": {},
   "source": [
    "**Now, visualize the data to see more clear picture.**"
   ]
  },
  {
   "cell_type": "code",
   "execution_count": 24,
   "id": "5f2ccfd1",
   "metadata": {},
   "outputs": [
    {
     "name": "stderr",
     "output_type": "stream",
     "text": [
      "C:\\Users\\Partha\\anaconda3\\lib\\site-packages\\scipy\\__init__.py:155: UserWarning: A NumPy version >=1.18.5 and <1.25.0 is required for this version of SciPy (detected version 1.25.2\n",
      "  warnings.warn(f\"A NumPy version >={np_minversion} and <{np_maxversion}\"\n"
     ]
    }
   ],
   "source": [
    "import matplotlib as mlt\n",
    "import matplotlib.pyplot as plt\n",
    "import seaborn as sns"
   ]
  },
  {
   "cell_type": "markdown",
   "id": "b39df9df",
   "metadata": {},
   "source": [
    "**Ploting Bar Plot**"
   ]
  },
  {
   "cell_type": "code",
   "execution_count": 25,
   "id": "5cf6c2e4",
   "metadata": {},
   "outputs": [
    {
     "data": {
      "text/plain": [
       "Text(0.5, 0, 'Sharks')"
      ]
     },
     "execution_count": 25,
     "metadata": {},
     "output_type": "execute_result"
    },
    {
     "data": {
      "image/png": "[encoded data removed]",
      "text/plain": [
       "<Figure size 640x480 with 1 Axes>"
      ]
     },
     "metadata": {},
     "output_type": "display_data"
    }
   ],
   "source": [
    "s2plot = sns.barplot(x=\"Name\", y='Total Investment Amount (lakhs)',data =data_s1)\n",
    "plt.bar_label(s2plot.containers[0],fmt= '%g')\n",
    "plt.title(\"Total Investment In Shark Tank S1\")\n",
    "plt.ylabel(\"Amount in lakhs\")\n",
    "plt.xlabel(\"Sharks\")\n"
   ]
  },
  {
   "cell_type": "markdown",
   "id": "842f118f",
   "metadata": {},
   "source": [
    "**Ploting Pie Chart**"
   ]
  },
  {
   "cell_type": "code",
   "execution_count": 26,
   "id": "427d6a50",
   "metadata": {},
   "outputs": [
    {
     "data": {
      "image/png": "[encoded data removed]",
      "text/plain": [
       "<Figure size 640x480 with 1 Axes>"
      ]
     },
     "metadata": {},
     "output_type": "display_data"
    }
   ],
   "source": [
    "plt.pie(data_s1['Total Investment Amount (lakhs)'],autopct='%0.2f%%',labels=data_s1['Name'],radius =1)\n",
    "plt.title(\"Total Invesment by Sharks in Season 1\")\n",
    "plt.show()"
   ]
  },
  {
   "cell_type": "markdown",
   "id": "5cd0c236",
   "metadata": {},
   "source": [
    "**Now doing the same things for season 2**"
   ]
  },
  {
   "cell_type": "code",
   "execution_count": 27,
   "id": "c74199eb",
   "metadata": {},
   "outputs": [
    {
     "name": "stdout",
     "output_type": "stream",
     "text": [
      "<class 'pandas.core.frame.DataFrame'>\n",
      "RangeIndex: 320 entries, 0 to 319\n",
      "Data columns (total 60 columns):\n",
      " #   Column                     Non-Null Count  Dtype  \n",
      "---  ------                     --------------  -----  \n",
      " 0   Season Number              320 non-null    int64  \n",
      " 1   Pitch Number               320 non-null    int64  \n",
      " 2   Startup Name               320 non-null    object \n",
      " 3   Industry                   320 non-null    object \n",
      " 4   Business Description       320 non-null    object \n",
      " 5   Company Website            309 non-null    object \n",
      " 6   Number of Presenters       320 non-null    int64  \n",
      " 7   Male Presenters            281 non-null    Int64  \n",
      " 8   Female Presenters          149 non-null    Int64  \n",
      " 9   Transgender Presenters     3 non-null      Int64  \n",
      " 10  Couple Presenters          315 non-null    float64\n",
      " 11  Pitchers Average Age       320 non-null    object \n",
      " 12  Started in                 184 non-null    Int64  \n",
      " 13  Pitchers City              320 non-null    object \n",
      " 14  Pitchers State             320 non-null    object \n",
      " 15  Yearly Revenue             134 non-null    float64\n",
      " 16  Monthly Sales              140 non-null    float64\n",
      " 17  Gross Margin               85 non-null     float64\n",
      " 18  Net Margin                 24 non-null     float64\n",
      " 19  Original Ask Amount        320 non-null    float64\n",
      " 20  Original Offered Equity    320 non-null    float64\n",
      " 21  Valuation Requested        320 non-null    float64\n",
      " 22  Received Offer             320 non-null    int64  \n",
      " 23  Accepted Offer             216 non-null    float64\n",
      " 24  Total Deal Amount          176 non-null    float64\n",
      " 25  Total Deal Equity          176 non-null    float64\n",
      " 26  Total Deal Debt            39 non-null     float64\n",
      " 27  Debt Interest              23 non-null     float64\n",
      " 28  Deal Valuation             176 non-null    float64\n",
      " 29  Number of sharks in deal   176 non-null    float64\n",
      " 30  Deal has conditions        8 non-null      object \n",
      " 31  Has Patents                7 non-null      float64\n",
      " 32  Ashneer Investment Amount  320 non-null    float64\n",
      " 33  Ashneer Investment Equity  21 non-null     float64\n",
      " 34  Ashneer Debt Amount        2 non-null      float64\n",
      " 35  Namita Investment Amount   320 non-null    float64\n",
      " 36  Namita Investment Equity   66 non-null     float64\n",
      " 37  Namita Debt Amount         13 non-null     float64\n",
      " 38  Anupam Investment Amount   320 non-null    float64\n",
      " 39  Anupam Investment Equity   51 non-null     float64\n",
      " 40  Anupam Debt Amount         4 non-null      float64\n",
      " 41  Vineeta Investment Amount  320 non-null    float64\n",
      " 42  Vineeta Investment Equity  43 non-null     float64\n",
      " 43  Vineeta Debt Amount        9 non-null      float64\n",
      " 44  Aman Investment Amount     320 non-null    float64\n",
      " 45  Aman Investment Equity     73 non-null     float64\n",
      " 46  Aman Debt Amount           8 non-null      float64\n",
      " 47  Peyush Investment Amount   320 non-null    float64\n",
      " 48  Peyush Investment Equity   69 non-null     float64\n",
      " 49  Peyush Debt Amount         11 non-null     float64\n",
      " 50  Ghazal Investment Amount   320 non-null    float64\n",
      " 51  Ghazal Investment Equity   8 non-null      float64\n",
      " 52  Ghazal Debt Amount         0 non-null      float64\n",
      " 53  Amit Investment Amount     21 non-null     float64\n",
      " 54  Amit Investment Equity     21 non-null     float64\n",
      " 55  Amit Debt Amount           4 non-null      float64\n",
      " 56  Guest Investment Amount    2 non-null      float64\n",
      " 57  Guest Investment Equity    2 non-null      float64\n",
      " 58  Guest Debt Amount          2 non-null      float64\n",
      " 59  Guest Name                 2 non-null      object \n",
      "dtypes: Int64(4), float64(43), int64(4), object(9)\n",
      "memory usage: 151.4+ KB\n"
     ]
    }
   ],
   "source": [
    "df.info()"
   ]
  },
  {
   "cell_type": "code",
   "execution_count": 28,
   "id": "16c5d581",
   "metadata": {},
   "outputs": [
    {
     "name": "stdout",
     "output_type": "stream",
     "text": [
      "1388.8799999999999\n",
      "914.83\n",
      "806.98\n",
      "1613.0500000000002\n",
      "1390.73\n",
      "800.91\n"
     ]
    }
   ],
   "source": [
    "# Namita Total Investment Amount Season 2\n",
    "nmi_s2 =0\n",
    "for i in range(0,319):\n",
    "    if (df.iloc[i,0] == 2 ):\n",
    "        nmi_s2 = nmi_s2 + df.iloc[i,35]\n",
    "print(nmi_s2)\n",
    "\n",
    "# Anupam Total Investment Amount Season 2\n",
    "anu_s2 =0\n",
    "for i in range(0,319):\n",
    "    if (df.iloc[i,0] == 2 ):\n",
    "        anu_s2 = anu_s2 + df.iloc[i,38]\n",
    "print(anu_s2)\n",
    "\n",
    "# Vineeta Total Investment Amount Season 2\n",
    "vi_s2 =0\n",
    "for i in range(0,319):\n",
    "    if (df.iloc[i,0] == 2 ):\n",
    "        vi_s2 = vi_s2 + df.iloc[i,41]\n",
    "print(vi_s2)\n",
    "\n",
    "# Aman Total Investment Amount Season 2\n",
    "am_s2 =0\n",
    "for i in range(0,319):\n",
    "    if (df.iloc[i,0] == 2):\n",
    "        am_s2 = am_s2 + df.iloc[i,44]\n",
    "print(am_s2)\n",
    "\n",
    "# Peyush Total Investment Amount Season 2\n",
    "py_s2 =0\n",
    "for i in range(0,319):\n",
    "    if (df.iloc[i,0] == 2 ):\n",
    "        py_s2 = py_s2 + df.iloc[i,47]\n",
    "print(py_s2)\n",
    "\n",
    "#Amit Total Investment Amount Season 2\n",
    "amt_s2 = df[\"Amit Investment Amount\"].sum()\n",
    "print(amt_s2) #Amit is only in season 2, so direct sum we use"
   ]
  },
  {
   "cell_type": "code",
   "execution_count": 29,
   "id": "6da56616",
   "metadata": {},
   "outputs": [],
   "source": [
    "Total_invesment_s2 = [nmi_s2,anu_s2,vi_s2,am_s2,py_s2,amt_s2]\n",
    "Name_s2 = ['Namita','Anupam','Vineeta','Aman','Peyush','Amit']"
   ]
  },
  {
   "cell_type": "code",
   "execution_count": 30,
   "id": "ee1643d6",
   "metadata": {},
   "outputs": [],
   "source": [
    "data_s2 = pd.DataFrame(list(zip(Name_s2,Total_invesment_s2)))\n",
    "data_s2 = round(data_s2)"
   ]
  },
  {
   "cell_type": "code",
   "execution_count": 31,
   "id": "a291af96",
   "metadata": {},
   "outputs": [],
   "source": [
    "data_s2.columns = column_name"
   ]
  },
  {
   "cell_type": "code",
   "execution_count": 32,
   "id": "2bb94225",
   "metadata": {},
   "outputs": [
    {
     "data": {
      "text/html": [
       "<div>\n",
       "<style scoped>\n",
       "    .dataframe tbody tr th:only-of-type {\n",
       "        vertical-align: middle;\n",
       "    }\n",
       "\n",
       "    .dataframe tbody tr th {\n",
       "        vertical-align: top;\n",
       "    }\n",
       "\n",
       "    .dataframe thead th {\n",
       "        text-align: right;\n",
       "    }\n",
       "</style>\n",
       "<table border=\"1\" class=\"dataframe\">\n",
       "  <thead>\n",
       "    <tr style=\"text-align: right;\">\n",
       "      <th></th>\n",
       "      <th>Name</th>\n",
       "      <th>Total Investment Amount (lakhs)</th>\n",
       "    </tr>\n",
       "  </thead>\n",
       "  <tbody>\n",
       "    <tr>\n",
       "      <th>0</th>\n",
       "      <td>Namita</td>\n",
       "      <td>1389.0</td>\n",
       "    </tr>\n",
       "    <tr>\n",
       "      <th>1</th>\n",
       "      <td>Anupam</td>\n",
       "      <td>915.0</td>\n",
       "    </tr>\n",
       "    <tr>\n",
       "      <th>2</th>\n",
       "      <td>Vineeta</td>\n",
       "      <td>807.0</td>\n",
       "    </tr>\n",
       "    <tr>\n",
       "      <th>3</th>\n",
       "      <td>Aman</td>\n",
       "      <td>1613.0</td>\n",
       "    </tr>\n",
       "    <tr>\n",
       "      <th>4</th>\n",
       "      <td>Peyush</td>\n",
       "      <td>1391.0</td>\n",
       "    </tr>\n",
       "    <tr>\n",
       "      <th>5</th>\n",
       "      <td>Amit</td>\n",
       "      <td>801.0</td>\n",
       "    </tr>\n",
       "  </tbody>\n",
       "</table>\n",
       "</div>"
      ],
      "text/plain": [
       "      Name  Total Investment Amount (lakhs)\n",
       "0   Namita                           1389.0\n",
       "1   Anupam                            915.0\n",
       "2  Vineeta                            807.0\n",
       "3     Aman                           1613.0\n",
       "4   Peyush                           1391.0\n",
       "5     Amit                            801.0"
      ]
     },
     "execution_count": 32,
     "metadata": {},
     "output_type": "execute_result"
    }
   ],
   "source": [
    "data_s2"
   ]
  },
  {
   "cell_type": "markdown",
   "id": "e983bdf3",
   "metadata": {},
   "source": [
    "**It's time for data visualization for season 2.**"
   ]
  },
  {
   "cell_type": "code",
   "execution_count": 33,
   "id": "26cafa2c",
   "metadata": {},
   "outputs": [
    {
     "data": {
      "text/plain": [
       "Text(0.5, 0, 'Sharks')"
      ]
     },
     "execution_count": 33,
     "metadata": {},
     "output_type": "execute_result"
    },
    {
     "data": {
      "image/png": "[encoded data removed]",
      "text/plain": [
       "<Figure size 640x480 with 1 Axes>"
      ]
     },
     "metadata": {},
     "output_type": "display_data"
    }
   ],
   "source": [
    "s2plot = sns.barplot(x=\"Name\", y='Total Investment Amount (lakhs)',data =data_s2,palette=sns.color_palette(\"terrain_r\", 7))\n",
    "plt.bar_label(s2plot.containers[0],fmt= '%g')\n",
    "plt.title(\"Total Investment In Shark Tank S2\")\n",
    "plt.ylabel(\"Amount in lakhs\")\n",
    "plt.xlabel(\"Sharks\")"
   ]
  },
  {
   "cell_type": "code",
   "execution_count": 34,
   "id": "895a4957",
   "metadata": {},
   "outputs": [
    {
     "data": {
      "image/png": "[encoded data removed]",
      "text/plain": [
       "<Figure size 640x480 with 1 Axes>"
      ]
     },
     "metadata": {},
     "output_type": "display_data"
    }
   ],
   "source": [
    "color = ('brown','#58508D','#BC5090', '#FF6361','#FFA600','skyblue')\n",
    "plt.pie(data_s2['Total Investment Amount (lakhs)'],autopct='%0.2f%%',labels=data_s2['Name'],colors =color)\n",
    "plt.title(\"Total Invesment by Sharks in Season 2\")\n",
    "plt.show()"
   ]
  },
  {
   "cell_type": "markdown",
   "id": "dc101d28",
   "metadata": {},
   "source": [
    "**Cheching total invesment by sharks in both seasons**"
   ]
  },
  {
   "cell_type": "code",
   "execution_count": 35,
   "id": "973fc0f1",
   "metadata": {},
   "outputs": [],
   "source": [
    "Ashneer = df[\"Ashneer Investment Amount\"].sum()\n",
    "Namita = df[\"Namita Investment Amount\"].sum()\n",
    "Anupam = df[\"Anupam Investment Amount\"].sum()\n",
    "Vineeta = df[\"Vineeta Investment Amount\"].sum()\n",
    "Aman = df[\"Aman Investment Amount\"].sum()\n",
    "Ghazal = df[\"Ghazal Investment Amount\"].sum()\n",
    "Peyush = df[\"Peyush Investment Amount\"].sum()\n",
    "Amit = df[\"Amit Investment Amount\"].sum()\n"
   ]
  },
  {
   "cell_type": "code",
   "execution_count": 36,
   "id": "aa79598e",
   "metadata": {},
   "outputs": [],
   "source": [
    "Total_investment = [Ashneer, Namita,Ghazal,Anupam,Aman,Peyush,Amit,Vineeta]\n",
    "Name = ['Ashneer', 'Namita','Ghazal','Anupam','Aman','Peyush','Amit','Vineeta']\n"
   ]
  },
  {
   "cell_type": "code",
   "execution_count": 37,
   "id": "aa755213",
   "metadata": {
    "scrolled": true
   },
   "outputs": [],
   "source": [
    "data = pd.DataFrame(list(zip(Name,Total_investment)))\n",
    "data = round(data)"
   ]
  },
  {
   "cell_type": "code",
   "execution_count": 38,
   "id": "5e21d476",
   "metadata": {},
   "outputs": [],
   "source": [
    "data.columns = column_name"
   ]
  },
  {
   "cell_type": "code",
   "execution_count": 39,
   "id": "b1ec77d5",
   "metadata": {
    "scrolled": true
   },
   "outputs": [
    {
     "data": {
      "text/html": [
       "<div>\n",
       "<style scoped>\n",
       "    .dataframe tbody tr th:only-of-type {\n",
       "        vertical-align: middle;\n",
       "    }\n",
       "\n",
       "    .dataframe tbody tr th {\n",
       "        vertical-align: top;\n",
       "    }\n",
       "\n",
       "    .dataframe thead th {\n",
       "        text-align: right;\n",
       "    }\n",
       "</style>\n",
       "<table border=\"1\" class=\"dataframe\">\n",
       "  <thead>\n",
       "    <tr style=\"text-align: right;\">\n",
       "      <th></th>\n",
       "      <th>Name</th>\n",
       "      <th>Total Investment Amount (lakhs)</th>\n",
       "    </tr>\n",
       "  </thead>\n",
       "  <tbody>\n",
       "    <tr>\n",
       "      <th>0</th>\n",
       "      <td>Ashneer</td>\n",
       "      <td>539.0</td>\n",
       "    </tr>\n",
       "    <tr>\n",
       "      <th>1</th>\n",
       "      <td>Namita</td>\n",
       "      <td>2098.0</td>\n",
       "    </tr>\n",
       "    <tr>\n",
       "      <th>2</th>\n",
       "      <td>Ghazal</td>\n",
       "      <td>160.0</td>\n",
       "    </tr>\n",
       "    <tr>\n",
       "      <th>3</th>\n",
       "      <td>Anupam</td>\n",
       "      <td>1451.0</td>\n",
       "    </tr>\n",
       "    <tr>\n",
       "      <th>4</th>\n",
       "      <td>Aman</td>\n",
       "      <td>2510.0</td>\n",
       "    </tr>\n",
       "    <tr>\n",
       "      <th>5</th>\n",
       "      <td>Peyush</td>\n",
       "      <td>2210.0</td>\n",
       "    </tr>\n",
       "    <tr>\n",
       "      <th>6</th>\n",
       "      <td>Amit</td>\n",
       "      <td>801.0</td>\n",
       "    </tr>\n",
       "    <tr>\n",
       "      <th>7</th>\n",
       "      <td>Vineeta</td>\n",
       "      <td>1171.0</td>\n",
       "    </tr>\n",
       "  </tbody>\n",
       "</table>\n",
       "</div>"
      ],
      "text/plain": [
       "      Name  Total Investment Amount (lakhs)\n",
       "0  Ashneer                            539.0\n",
       "1   Namita                           2098.0\n",
       "2   Ghazal                            160.0\n",
       "3   Anupam                           1451.0\n",
       "4     Aman                           2510.0\n",
       "5   Peyush                           2210.0\n",
       "6     Amit                            801.0\n",
       "7  Vineeta                           1171.0"
      ]
     },
     "execution_count": 39,
     "metadata": {},
     "output_type": "execute_result"
    }
   ],
   "source": [
    "data"
   ]
  },
  {
   "cell_type": "markdown",
   "id": "b9c8eb11",
   "metadata": {},
   "source": [
    "**Now visulizing the above dataframe. To find which investe the most.**"
   ]
  },
  {
   "cell_type": "code",
   "execution_count": 40,
   "id": "10cd1946",
   "metadata": {},
   "outputs": [
    {
     "data": {
      "text/plain": [
       "Text(0.5, 0, 'Sharks')"
      ]
     },
     "execution_count": 40,
     "metadata": {},
     "output_type": "execute_result"
    },
    {
     "data": {
      "image/png": "[encoded data removed]",
      "text/plain": [
       "<Figure size 640x480 with 1 Axes>"
      ]
     },
     "metadata": {},
     "output_type": "display_data"
    }
   ],
   "source": [
    "s2plot = sns.barplot(x=\"Name\", y=\"Total Investment Amount (lakhs)\",data = data,palette=sns.color_palette('coolwarm'))\n",
    "plt.bar_label(s2plot.containers[0],fmt= '%g')\n",
    "plt.title(\"Total Investment In Shark Tank S1 & S2\")\n",
    "plt.ylabel('Amount in lakhs')\n",
    "plt.xlabel('Sharks')"
   ]
  },
  {
   "cell_type": "markdown",
   "id": "6150eb71",
   "metadata": {},
   "source": [
    "*Pie chart of the above data.*"
   ]
  },
  {
   "cell_type": "code",
   "execution_count": 41,
   "id": "2e634763",
   "metadata": {},
   "outputs": [
    {
     "data": {
      "text/plain": [
       "Text(0.5, 1.0, 'Total Investment by Sharks in S1 & S2')"
      ]
     },
     "execution_count": 41,
     "metadata": {},
     "output_type": "execute_result"
    },
    {
     "data": {
      "image/png": "[encoded data removed]",
      "text/plain": [
       "<Figure size 640x480 with 1 Axes>"
      ]
     },
     "metadata": {},
     "output_type": "display_data"
    }
   ],
   "source": [
    "plt.pie(data[\"Total Investment Amount (lakhs)\"],labels=data['Name'],autopct='%0.2f%%',colors=sns.color_palette('terrain_r',8))\n",
    "\n",
    "plt.title(\"Total Investment by Sharks in S1 & S2\")"
   ]
  },
  {
   "cell_type": "markdown",
   "id": "9342d79a",
   "metadata": {},
   "source": [
    "**Our objective to find the numbers of startups in which sharks invested in both season.**"
   ]
  },
  {
   "cell_type": "code",
   "execution_count": 42,
   "id": "fc5e884d",
   "metadata": {},
   "outputs": [
    {
     "name": "stdout",
     "output_type": "stream",
     "text": [
      "21\n",
      "25\n",
      "8\n",
      "25\n",
      "30\n",
      "29\n",
      "17\n"
     ]
    }
   ],
   "source": [
    "c_as = 0\n",
    "for i in range(0,319):\n",
    "    if(df.iloc[i,0]==1):\n",
    "        if(df.iloc[i,32]>0):\n",
    "            c_as = c_as +1\n",
    "print(c_as) \n",
    "\n",
    "c_nam = 0\n",
    "for i in range(0,319):\n",
    "    if(df.iloc[i,0]==1):\n",
    "        if(df.iloc[i,35]>0):\n",
    "            c_nam = c_nam +1\n",
    "print(c_nam) \n",
    "\n",
    "c_gz = 0\n",
    "for i in range(0,319):\n",
    "    if(df.iloc[i,0]==1):\n",
    "        if(df.iloc[i,50]>0):\n",
    "            c_gz = c_gz +1\n",
    "print(c_gz) \n",
    "\n",
    "c_anu = 0\n",
    "for i in range(0,319):\n",
    "    if(df.iloc[i,0]==1):\n",
    "        if(df.iloc[i,38]>0):\n",
    "            c_anu = c_anu +1\n",
    "print(c_anu) \n",
    "\n",
    "c_amn = 0\n",
    "for i in range(0,319):\n",
    "    if(df.iloc[i,0]==1):\n",
    "        if(df.iloc[i,44]>0):\n",
    "            c_amn = c_amn +1\n",
    "print(c_amn)\n",
    "\n",
    "c_py = 0\n",
    "for i in range(0,319):\n",
    "    if(df.iloc[i,0]==1):\n",
    "        if (df.iloc[i,47] >0 ):\n",
    "            c_py = c_py + 1\n",
    "print(c_py)\n",
    "c_v = 0\n",
    "for i in range(0,319):\n",
    "    if(df.iloc[i,0]==1):\n",
    "        if(df.iloc[i,41]>0):\n",
    "            c_v = c_v +1\n",
    "print(c_v)"
   ]
  },
  {
   "cell_type": "code",
   "execution_count": 43,
   "id": "0501b35c",
   "metadata": {},
   "outputs": [
    {
     "data": {
      "text/html": [
       "<div>\n",
       "<style scoped>\n",
       "    .dataframe tbody tr th:only-of-type {\n",
       "        vertical-align: middle;\n",
       "    }\n",
       "\n",
       "    .dataframe tbody tr th {\n",
       "        vertical-align: top;\n",
       "    }\n",
       "\n",
       "    .dataframe thead th {\n",
       "        text-align: right;\n",
       "    }\n",
       "</style>\n",
       "<table border=\"1\" class=\"dataframe\">\n",
       "  <thead>\n",
       "    <tr style=\"text-align: right;\">\n",
       "      <th></th>\n",
       "      <th>0</th>\n",
       "      <th>1</th>\n",
       "    </tr>\n",
       "  </thead>\n",
       "  <tbody>\n",
       "    <tr>\n",
       "      <th>0</th>\n",
       "      <td>Ashneer</td>\n",
       "      <td>21</td>\n",
       "    </tr>\n",
       "    <tr>\n",
       "      <th>1</th>\n",
       "      <td>Namita</td>\n",
       "      <td>25</td>\n",
       "    </tr>\n",
       "    <tr>\n",
       "      <th>2</th>\n",
       "      <td>Ghazal</td>\n",
       "      <td>8</td>\n",
       "    </tr>\n",
       "    <tr>\n",
       "      <th>3</th>\n",
       "      <td>Anupam</td>\n",
       "      <td>25</td>\n",
       "    </tr>\n",
       "    <tr>\n",
       "      <th>4</th>\n",
       "      <td>Aman</td>\n",
       "      <td>30</td>\n",
       "    </tr>\n",
       "    <tr>\n",
       "      <th>5</th>\n",
       "      <td>Peyush</td>\n",
       "      <td>29</td>\n",
       "    </tr>\n",
       "    <tr>\n",
       "      <th>6</th>\n",
       "      <td>Vineeta</td>\n",
       "      <td>17</td>\n",
       "    </tr>\n",
       "  </tbody>\n",
       "</table>\n",
       "</div>"
      ],
      "text/plain": [
       "         0   1\n",
       "0  Ashneer  21\n",
       "1   Namita  25\n",
       "2   Ghazal   8\n",
       "3   Anupam  25\n",
       "4     Aman  30\n",
       "5   Peyush  29\n",
       "6  Vineeta  17"
      ]
     },
     "execution_count": 43,
     "metadata": {},
     "output_type": "execute_result"
    }
   ],
   "source": [
    "startup_no = [c_as,c_nam,c_gz,c_anu,c_amn,c_py,c_v]\n",
    "startup_no\n",
    "name = [\"Ashneer\",\"Namita\",\"Ghazal\",\"Anupam\",\"Aman\",\"Peyush\",\"Vineeta\"]\n",
    "startup_s1 = pd.DataFrame(list(zip(name,startup_no)))\n",
    "startup_s1 = round(startup_s1)\n",
    "startup_s1"
   ]
  },
  {
   "cell_type": "code",
   "execution_count": 44,
   "id": "e44192d2",
   "metadata": {},
   "outputs": [],
   "source": [
    "columns1 = ('Name','Number of Startups')\n",
    "startup_s1.columns = columns1"
   ]
  },
  {
   "cell_type": "code",
   "execution_count": 45,
   "id": "194119d4",
   "metadata": {},
   "outputs": [
    {
     "data": {
      "text/html": [
       "<div>\n",
       "<style scoped>\n",
       "    .dataframe tbody tr th:only-of-type {\n",
       "        vertical-align: middle;\n",
       "    }\n",
       "\n",
       "    .dataframe tbody tr th {\n",
       "        vertical-align: top;\n",
       "    }\n",
       "\n",
       "    .dataframe thead th {\n",
       "        text-align: right;\n",
       "    }\n",
       "</style>\n",
       "<table border=\"1\" class=\"dataframe\">\n",
       "  <thead>\n",
       "    <tr style=\"text-align: right;\">\n",
       "      <th></th>\n",
       "      <th>Name</th>\n",
       "      <th>Number of Startups</th>\n",
       "    </tr>\n",
       "  </thead>\n",
       "  <tbody>\n",
       "    <tr>\n",
       "      <th>0</th>\n",
       "      <td>Ashneer</td>\n",
       "      <td>21</td>\n",
       "    </tr>\n",
       "    <tr>\n",
       "      <th>1</th>\n",
       "      <td>Namita</td>\n",
       "      <td>25</td>\n",
       "    </tr>\n",
       "    <tr>\n",
       "      <th>2</th>\n",
       "      <td>Ghazal</td>\n",
       "      <td>8</td>\n",
       "    </tr>\n",
       "    <tr>\n",
       "      <th>3</th>\n",
       "      <td>Anupam</td>\n",
       "      <td>25</td>\n",
       "    </tr>\n",
       "    <tr>\n",
       "      <th>4</th>\n",
       "      <td>Aman</td>\n",
       "      <td>30</td>\n",
       "    </tr>\n",
       "    <tr>\n",
       "      <th>5</th>\n",
       "      <td>Peyush</td>\n",
       "      <td>29</td>\n",
       "    </tr>\n",
       "    <tr>\n",
       "      <th>6</th>\n",
       "      <td>Vineeta</td>\n",
       "      <td>17</td>\n",
       "    </tr>\n",
       "  </tbody>\n",
       "</table>\n",
       "</div>"
      ],
      "text/plain": [
       "      Name  Number of Startups\n",
       "0  Ashneer                  21\n",
       "1   Namita                  25\n",
       "2   Ghazal                   8\n",
       "3   Anupam                  25\n",
       "4     Aman                  30\n",
       "5   Peyush                  29\n",
       "6  Vineeta                  17"
      ]
     },
     "execution_count": 45,
     "metadata": {},
     "output_type": "execute_result"
    }
   ],
   "source": [
    "startup_s1"
   ]
  },
  {
   "cell_type": "markdown",
   "id": "8ac0fe38",
   "metadata": {},
   "source": [
    "**Data visulazation of the above startup_s1 dataframe. Which give the shark invested in more startups in shark tank season 1.**"
   ]
  },
  {
   "cell_type": "code",
   "execution_count": 46,
   "id": "9a1a6700",
   "metadata": {},
   "outputs": [
    {
     "data": {
      "text/plain": [
       "Text(0.5, 0, 'Sharks')"
      ]
     },
     "execution_count": 46,
     "metadata": {},
     "output_type": "execute_result"
    },
    {
     "data": {
      "image/png": "[encoded data removed]",
      "text/plain": [
       "<Figure size 640x480 with 1 Axes>"
      ]
     },
     "metadata": {},
     "output_type": "display_data"
    }
   ],
   "source": [
    "s2plot = sns.barplot(x=\"Name\", y=\"Number of Startups\",data = startup_s1,palette=sns.color_palette('terrain'))\n",
    "plt.bar_label(s2plot.containers[0],fmt= '%g')\n",
    "plt.title(\"Total Numers of Startups Sharks Invested in S1\")\n",
    "plt.ylabel('Nubmers of Startups')\n",
    "plt.xlabel('Sharks')"
   ]
  },
  {
   "cell_type": "code",
   "execution_count": 47,
   "id": "8a99b63c",
   "metadata": {},
   "outputs": [
    {
     "data": {
      "text/plain": [
       "Text(0.5, 1.0, 'No. of Startups Invested')"
      ]
     },
     "execution_count": 47,
     "metadata": {},
     "output_type": "execute_result"
    },
    {
     "data": {
      "image/png": "[encoded data removed]",
      "text/plain": [
       "<Figure size 640x480 with 1 Axes>"
      ]
     },
     "metadata": {},
     "output_type": "display_data"
    }
   ],
   "source": [
    "colors2 = ( \"orange\", \"beige\", \"brown\",\"grey\", \"blue\",\"cyan\",\"pink\")\n",
    "        \n",
    "myexplode = [0, 0, 0, 0,0.2,0.1,0]\n",
    "plt.pie(startup_s1['Number of Startups'],explode = myexplode,labels=startup_s1['Name'],autopct='%0.2f%%',shadow =True,colors =colors2)\n",
    "\n",
    "plt.title(\"No. of Startups Invested\")"
   ]
  },
  {
   "cell_type": "code",
   "execution_count": 48,
   "id": "a03b3009",
   "metadata": {},
   "outputs": [
    {
     "name": "stdout",
     "output_type": "stream",
     "text": [
      "41\n",
      "25\n",
      "42\n",
      "39\n",
      "20\n",
      "26\n"
     ]
    }
   ],
   "source": [
    "c2_nam = 0\n",
    "for i in range(0,319):\n",
    "    if(df.iloc[i,0]==2):\n",
    "        if(df.iloc[i,35]>0):\n",
    "            c2_nam = c2_nam +1\n",
    "print(c2_nam)  \n",
    "\n",
    "c2_anu = 0\n",
    "for i in range(0,319):\n",
    "    if(df.iloc[i,0]==2):\n",
    "        if(df.iloc[i,38]>0):\n",
    "            c2_anu = c2_anu +1\n",
    "print(c2_anu) \n",
    "\n",
    "c2_amn = 0\n",
    "for i in range(0,319):\n",
    "    if(df.iloc[i,0]==2):\n",
    "        if(df.iloc[i,44]>0):\n",
    "            c2_amn = c2_amn +1\n",
    "print(c2_amn)\n",
    "\n",
    "c2_py = 0\n",
    "for i in range(0,319):\n",
    "    if(df.iloc[i,0]==2):\n",
    "        if (df.iloc[i,47] >0 ):\n",
    "            c2_py = c2_py + 1\n",
    "print(c2_py)\n",
    "\n",
    "c2_amt = 0\n",
    "for i in range(0,319):\n",
    "    if(df.iloc[i,0]==2):\n",
    "        if(df.iloc[i,53] >0 ):\n",
    "            c2_amt = c2_amt +1\n",
    "print(c2_amt)\n",
    "       \n",
    "c2_v = 0\n",
    "for i in range(0,319):\n",
    "    if(df.iloc[i,0]==2):\n",
    "        if(df.iloc[i,41]>0):\n",
    "            c2_v = c2_v +1\n",
    "print(c2_v)"
   ]
  },
  {
   "cell_type": "code",
   "execution_count": 49,
   "id": "3cd0b246",
   "metadata": {},
   "outputs": [
    {
     "data": {
      "text/html": [
       "<div>\n",
       "<style scoped>\n",
       "    .dataframe tbody tr th:only-of-type {\n",
       "        vertical-align: middle;\n",
       "    }\n",
       "\n",
       "    .dataframe tbody tr th {\n",
       "        vertical-align: top;\n",
       "    }\n",
       "\n",
       "    .dataframe thead th {\n",
       "        text-align: right;\n",
       "    }\n",
       "</style>\n",
       "<table border=\"1\" class=\"dataframe\">\n",
       "  <thead>\n",
       "    <tr style=\"text-align: right;\">\n",
       "      <th></th>\n",
       "      <th>0</th>\n",
       "      <th>1</th>\n",
       "    </tr>\n",
       "  </thead>\n",
       "  <tbody>\n",
       "    <tr>\n",
       "      <th>0</th>\n",
       "      <td>Namita</td>\n",
       "      <td>41</td>\n",
       "    </tr>\n",
       "    <tr>\n",
       "      <th>1</th>\n",
       "      <td>Anupam</td>\n",
       "      <td>25</td>\n",
       "    </tr>\n",
       "    <tr>\n",
       "      <th>2</th>\n",
       "      <td>Aman</td>\n",
       "      <td>42</td>\n",
       "    </tr>\n",
       "    <tr>\n",
       "      <th>3</th>\n",
       "      <td>Peyush</td>\n",
       "      <td>39</td>\n",
       "    </tr>\n",
       "    <tr>\n",
       "      <th>4</th>\n",
       "      <td>Amit</td>\n",
       "      <td>20</td>\n",
       "    </tr>\n",
       "    <tr>\n",
       "      <th>5</th>\n",
       "      <td>Vineeta</td>\n",
       "      <td>26</td>\n",
       "    </tr>\n",
       "  </tbody>\n",
       "</table>\n",
       "</div>"
      ],
      "text/plain": [
       "         0   1\n",
       "0   Namita  41\n",
       "1   Anupam  25\n",
       "2     Aman  42\n",
       "3   Peyush  39\n",
       "4     Amit  20\n",
       "5  Vineeta  26"
      ]
     },
     "execution_count": 49,
     "metadata": {},
     "output_type": "execute_result"
    }
   ],
   "source": [
    "startup_no_2 = [c2_nam,c2_anu,c2_amn,c2_py,c2_amt,c2_v]\n",
    "startup_no_2\n",
    "name =[ \"Namita\",\"Anupam\",\"Aman\",\"Peyush\",\"Amit\",\"Vineeta\"]\n",
    "startup_s2 = pd.DataFrame(list(zip(name,startup_no_2)))\n",
    "startup_s2 = round(startup_s2)\n",
    "startup_s2"
   ]
  },
  {
   "cell_type": "code",
   "execution_count": 50,
   "id": "87d5ef7a",
   "metadata": {},
   "outputs": [
    {
     "data": {
      "text/html": [
       "<div>\n",
       "<style scoped>\n",
       "    .dataframe tbody tr th:only-of-type {\n",
       "        vertical-align: middle;\n",
       "    }\n",
       "\n",
       "    .dataframe tbody tr th {\n",
       "        vertical-align: top;\n",
       "    }\n",
       "\n",
       "    .dataframe thead th {\n",
       "        text-align: right;\n",
       "    }\n",
       "</style>\n",
       "<table border=\"1\" class=\"dataframe\">\n",
       "  <thead>\n",
       "    <tr style=\"text-align: right;\">\n",
       "      <th></th>\n",
       "      <th>Name</th>\n",
       "      <th>Number of Startups</th>\n",
       "    </tr>\n",
       "  </thead>\n",
       "  <tbody>\n",
       "    <tr>\n",
       "      <th>0</th>\n",
       "      <td>Namita</td>\n",
       "      <td>41</td>\n",
       "    </tr>\n",
       "    <tr>\n",
       "      <th>1</th>\n",
       "      <td>Anupam</td>\n",
       "      <td>25</td>\n",
       "    </tr>\n",
       "    <tr>\n",
       "      <th>2</th>\n",
       "      <td>Aman</td>\n",
       "      <td>42</td>\n",
       "    </tr>\n",
       "    <tr>\n",
       "      <th>3</th>\n",
       "      <td>Peyush</td>\n",
       "      <td>39</td>\n",
       "    </tr>\n",
       "    <tr>\n",
       "      <th>4</th>\n",
       "      <td>Amit</td>\n",
       "      <td>20</td>\n",
       "    </tr>\n",
       "    <tr>\n",
       "      <th>5</th>\n",
       "      <td>Vineeta</td>\n",
       "      <td>26</td>\n",
       "    </tr>\n",
       "  </tbody>\n",
       "</table>\n",
       "</div>"
      ],
      "text/plain": [
       "      Name  Number of Startups\n",
       "0   Namita                  41\n",
       "1   Anupam                  25\n",
       "2     Aman                  42\n",
       "3   Peyush                  39\n",
       "4     Amit                  20\n",
       "5  Vineeta                  26"
      ]
     },
     "execution_count": 50,
     "metadata": {},
     "output_type": "execute_result"
    }
   ],
   "source": [
    "startup_s2.columns= columns1\n",
    "startup_s2"
   ]
  },
  {
   "cell_type": "markdown",
   "id": "8184112b",
   "metadata": {},
   "source": [
    "**Data visulazation of the above startup_s1 dataframe. Which give the shark invested in more startups season 2.**"
   ]
  },
  {
   "cell_type": "code",
   "execution_count": 51,
   "id": "d86326d8",
   "metadata": {},
   "outputs": [
    {
     "data": {
      "text/plain": [
       "Text(0.5, 0, 'Sharks')"
      ]
     },
     "execution_count": 51,
     "metadata": {},
     "output_type": "execute_result"
    },
    {
     "data": {
      "image/png": "[encoded data removed]",
      "text/plain": [
       "<Figure size 640x480 with 1 Axes>"
      ]
     },
     "metadata": {},
     "output_type": "display_data"
    }
   ],
   "source": [
    "s2plot = sns.barplot(x=\"Name\", y=\"Number of Startups\",data = startup_s2,palette=sns.color_palette('inferno'))\n",
    "plt.bar_label(s2plot.containers[0],fmt= '%g')\n",
    "plt.title(\"Total Numers of Startups Sharks Invested in S2\")\n",
    "plt.ylabel('Nubmers of Startups')\n",
    "plt.xlabel('Sharks')"
   ]
  },
  {
   "cell_type": "markdown",
   "id": "a4c8b01a",
   "metadata": {},
   "source": [
    "*Bar plot of the above data.*"
   ]
  },
  {
   "cell_type": "code",
   "execution_count": 52,
   "id": "c13a4e15",
   "metadata": {},
   "outputs": [
    {
     "data": {
      "image/png": "[encoded data removed]",
      "text/plain": [
       "<Figure size 640x480 with 1 Axes>"
      ]
     },
     "metadata": {},
     "output_type": "display_data"
    }
   ],
   "source": [
    "palette_color = sns.color_palette('bright')\n",
    "myexplode_2 = [0, 0, 0.2, 0,0,0]\n",
    "plt.pie(startup_s2['Number of Startups'],explode = myexplode_2,labels=startup_s2['Name'],shadow= True,autopct='%0.2f%%', colors=palette_color)\n",
    "\n",
    "plt.title(\"No. of Startups Invested in Season 2\")\n",
    "plt.show()"
   ]
  },
  {
   "cell_type": "markdown",
   "id": "aea7823e",
   "metadata": {},
   "source": [
    "**Checkpoint to prevent data loss.**"
   ]
  },
  {
   "cell_type": "code",
   "execution_count": 61,
   "id": "207c3e2b",
   "metadata": {},
   "outputs": [],
   "source": [
    "df_2 = df.copy()"
   ]
  },
  {
   "cell_type": "markdown",
   "id": "5a1b7dab",
   "metadata": {},
   "source": [
    "**Now, we come to our third point, to find which industry sharks invested the most.**"
   ]
  },
  {
   "cell_type": "code",
   "execution_count": 62,
   "id": "311e9292",
   "metadata": {},
   "outputs": [
    {
     "data": {
      "text/plain": [
       "array(['Food', 'Vehicles/Electrical Vehicles', 'Beauty/Fashion',\n",
       "       'Education', 'Agriculture', 'Medical/Health', 'Manufacturing',\n",
       "       'Technology/Software', 'Electronics', 'Animal/Pets', 'Services',\n",
       "       'Hardware', 'Sports', 'Liquor/Beverages', 'Entertainment',\n",
       "       'Furnishing/Household'], dtype=object)"
      ]
     },
     "execution_count": 62,
     "metadata": {},
     "output_type": "execute_result"
    }
   ],
   "source": [
    "df_2['Industry'].unique()"
   ]
  },
  {
   "cell_type": "code",
   "execution_count": 63,
   "id": "7ce168a7",
   "metadata": {},
   "outputs": [],
   "source": [
    "sectors ={'Vehicles/Electrical Vehicles':'Vehicles','Beauty/Fashion':'Beauty','Medical/Health':'Health', 'Technology/Software':'Technology','Animal/Pets':'Pets','Liquor/Beverages':'Beverages','Furnishing/Household':'Household'}"
   ]
  },
  {
   "cell_type": "code",
   "execution_count": 64,
   "id": "7d23bb74",
   "metadata": {},
   "outputs": [],
   "source": [
    "df_2['Industry'].replace(sectors,inplace = True)"
   ]
  },
  {
   "cell_type": "code",
   "execution_count": 65,
   "id": "529e672f",
   "metadata": {},
   "outputs": [
    {
     "data": {
      "text/plain": [
       "array(['Food', 'Vehicles', 'Beauty', 'Education', 'Agriculture', 'Health',\n",
       "       'Manufacturing', 'Technology', 'Electronics', 'Pets', 'Services',\n",
       "       'Hardware', 'Sports', 'Beverages', 'Entertainment', 'Household'],\n",
       "      dtype=object)"
      ]
     },
     "execution_count": 65,
     "metadata": {},
     "output_type": "execute_result"
    }
   ],
   "source": [
    "df_2['Industry'].unique()"
   ]
  },
  {
   "cell_type": "code",
   "execution_count": 71,
   "id": "ccdbb560",
   "metadata": {},
   "outputs": [
    {
     "data": {
      "text/html": [
       "<div>\n",
       "<style scoped>\n",
       "    .dataframe tbody tr th:only-of-type {\n",
       "        vertical-align: middle;\n",
       "    }\n",
       "\n",
       "    .dataframe tbody tr th {\n",
       "        vertical-align: top;\n",
       "    }\n",
       "\n",
       "    .dataframe thead th {\n",
       "        text-align: right;\n",
       "    }\n",
       "</style>\n",
       "<table border=\"1\" class=\"dataframe\">\n",
       "  <thead>\n",
       "    <tr style=\"text-align: right;\">\n",
       "      <th></th>\n",
       "      <th>Season Number</th>\n",
       "      <th>Pitch Number</th>\n",
       "      <th>Startup Name</th>\n",
       "      <th>Industry</th>\n",
       "      <th>Business Description</th>\n",
       "      <th>Company Website</th>\n",
       "      <th>Number of Presenters</th>\n",
       "      <th>Male Presenters</th>\n",
       "      <th>Female Presenters</th>\n",
       "      <th>Transgender Presenters</th>\n",
       "      <th>...</th>\n",
       "      <th>Ghazal Investment Amount</th>\n",
       "      <th>Ghazal Investment Equity</th>\n",
       "      <th>Ghazal Debt Amount</th>\n",
       "      <th>Amit Investment Amount</th>\n",
       "      <th>Amit Investment Equity</th>\n",
       "      <th>Amit Debt Amount</th>\n",
       "      <th>Guest Investment Amount</th>\n",
       "      <th>Guest Investment Equity</th>\n",
       "      <th>Guest Debt Amount</th>\n",
       "      <th>Guest Name</th>\n",
       "    </tr>\n",
       "  </thead>\n",
       "  <tbody>\n",
       "    <tr>\n",
       "      <th>0</th>\n",
       "      <td>1</td>\n",
       "      <td>1</td>\n",
       "      <td>BluePineFoods</td>\n",
       "      <td>Food</td>\n",
       "      <td>Frozen Momos</td>\n",
       "      <td>https://bluepinefoods.com/</td>\n",
       "      <td>3</td>\n",
       "      <td>2</td>\n",
       "      <td>1</td>\n",
       "      <td>0</td>\n",
       "      <td>...</td>\n",
       "      <td>0.0</td>\n",
       "      <td>0.0</td>\n",
       "      <td>0.0</td>\n",
       "      <td>0.0</td>\n",
       "      <td>0.0</td>\n",
       "      <td>0.0</td>\n",
       "      <td>0.0</td>\n",
       "      <td>0.0</td>\n",
       "      <td>0.0</td>\n",
       "      <td>0</td>\n",
       "    </tr>\n",
       "    <tr>\n",
       "      <th>1</th>\n",
       "      <td>1</td>\n",
       "      <td>2</td>\n",
       "      <td>BoozScooters</td>\n",
       "      <td>Vehicles</td>\n",
       "      <td>Renting e-bike for mobility in private spaces</td>\n",
       "      <td>https://www.boozup.net/</td>\n",
       "      <td>1</td>\n",
       "      <td>1</td>\n",
       "      <td>0</td>\n",
       "      <td>0</td>\n",
       "      <td>...</td>\n",
       "      <td>0.0</td>\n",
       "      <td>0.0</td>\n",
       "      <td>0.0</td>\n",
       "      <td>0.0</td>\n",
       "      <td>0.0</td>\n",
       "      <td>0.0</td>\n",
       "      <td>0.0</td>\n",
       "      <td>0.0</td>\n",
       "      <td>0.0</td>\n",
       "      <td>0</td>\n",
       "    </tr>\n",
       "    <tr>\n",
       "      <th>2</th>\n",
       "      <td>1</td>\n",
       "      <td>3</td>\n",
       "      <td>HeartUpMySleeves</td>\n",
       "      <td>Beauty</td>\n",
       "      <td>Detachable Sleeves</td>\n",
       "      <td>https://heartupmysleeves.com/</td>\n",
       "      <td>1</td>\n",
       "      <td>0</td>\n",
       "      <td>1</td>\n",
       "      <td>0</td>\n",
       "      <td>...</td>\n",
       "      <td>0.0</td>\n",
       "      <td>0.0</td>\n",
       "      <td>0.0</td>\n",
       "      <td>0.0</td>\n",
       "      <td>0.0</td>\n",
       "      <td>0.0</td>\n",
       "      <td>0.0</td>\n",
       "      <td>0.0</td>\n",
       "      <td>0.0</td>\n",
       "      <td>0</td>\n",
       "    </tr>\n",
       "    <tr>\n",
       "      <th>3</th>\n",
       "      <td>1</td>\n",
       "      <td>4</td>\n",
       "      <td>TagzFoods</td>\n",
       "      <td>Food</td>\n",
       "      <td>Healthy Potato Chips Snacks</td>\n",
       "      <td>https://tagzfoods.com/</td>\n",
       "      <td>2</td>\n",
       "      <td>2</td>\n",
       "      <td>0</td>\n",
       "      <td>0</td>\n",
       "      <td>...</td>\n",
       "      <td>0.0</td>\n",
       "      <td>0.0</td>\n",
       "      <td>0.0</td>\n",
       "      <td>0.0</td>\n",
       "      <td>0.0</td>\n",
       "      <td>0.0</td>\n",
       "      <td>0.0</td>\n",
       "      <td>0.0</td>\n",
       "      <td>0.0</td>\n",
       "      <td>0</td>\n",
       "    </tr>\n",
       "    <tr>\n",
       "      <th>4</th>\n",
       "      <td>1</td>\n",
       "      <td>5</td>\n",
       "      <td>HeadAndHeart</td>\n",
       "      <td>Education</td>\n",
       "      <td>Brain Development Course</td>\n",
       "      <td>https://thehnh.in/</td>\n",
       "      <td>4</td>\n",
       "      <td>1</td>\n",
       "      <td>3</td>\n",
       "      <td>0</td>\n",
       "      <td>...</td>\n",
       "      <td>0.0</td>\n",
       "      <td>0.0</td>\n",
       "      <td>0.0</td>\n",
       "      <td>0.0</td>\n",
       "      <td>0.0</td>\n",
       "      <td>0.0</td>\n",
       "      <td>0.0</td>\n",
       "      <td>0.0</td>\n",
       "      <td>0.0</td>\n",
       "      <td>0</td>\n",
       "    </tr>\n",
       "  </tbody>\n",
       "</table>\n",
       "<p>5 rows × 60 columns</p>\n",
       "</div>"
      ],
      "text/plain": [
       "   Season Number  Pitch Number      Startup Name   Industry  \\\n",
       "0              1             1     BluePineFoods       Food   \n",
       "1              1             2      BoozScooters   Vehicles   \n",
       "2              1             3  HeartUpMySleeves     Beauty   \n",
       "3              1             4         TagzFoods       Food   \n",
       "4              1             5      HeadAndHeart  Education   \n",
       "\n",
       "                            Business Description  \\\n",
       "0                                   Frozen Momos   \n",
       "1  Renting e-bike for mobility in private spaces   \n",
       "2                             Detachable Sleeves   \n",
       "3                    Healthy Potato Chips Snacks   \n",
       "4                       Brain Development Course   \n",
       "\n",
       "                 Company Website  Number of Presenters  Male Presenters  \\\n",
       "0     https://bluepinefoods.com/                     3                2   \n",
       "1        https://www.boozup.net/                     1                1   \n",
       "2  https://heartupmysleeves.com/                     1                0   \n",
       "3         https://tagzfoods.com/                     2                2   \n",
       "4             https://thehnh.in/                     4                1   \n",
       "\n",
       "   Female Presenters  Transgender Presenters  ...  Ghazal Investment Amount  \\\n",
       "0                  1                       0  ...                       0.0   \n",
       "1                  0                       0  ...                       0.0   \n",
       "2                  1                       0  ...                       0.0   \n",
       "3                  0                       0  ...                       0.0   \n",
       "4                  3                       0  ...                       0.0   \n",
       "\n",
       "  Ghazal Investment Equity  Ghazal Debt Amount Amit Investment Amount  \\\n",
       "0                      0.0                 0.0                    0.0   \n",
       "1                      0.0                 0.0                    0.0   \n",
       "2                      0.0                 0.0                    0.0   \n",
       "3                      0.0                 0.0                    0.0   \n",
       "4                      0.0                 0.0                    0.0   \n",
       "\n",
       "  Amit Investment Equity  Amit Debt Amount  Guest Investment Amount  \\\n",
       "0                    0.0               0.0                      0.0   \n",
       "1                    0.0               0.0                      0.0   \n",
       "2                    0.0               0.0                      0.0   \n",
       "3                    0.0               0.0                      0.0   \n",
       "4                    0.0               0.0                      0.0   \n",
       "\n",
       "   Guest Investment Equity  Guest Debt Amount  Guest Name  \n",
       "0                      0.0                0.0           0  \n",
       "1                      0.0                0.0           0  \n",
       "2                      0.0                0.0           0  \n",
       "3                      0.0                0.0           0  \n",
       "4                      0.0                0.0           0  \n",
       "\n",
       "[5 rows x 60 columns]"
      ]
     },
     "execution_count": 71,
     "metadata": {},
     "output_type": "execute_result"
    }
   ],
   "source": [
    "df_2.fillna(0).head()"
   ]
  },
  {
   "cell_type": "markdown",
   "id": "5f6adfd4",
   "metadata": {},
   "source": [
    "**Finally saving the dataframe as new csv file for further analyze.**"
   ]
  },
  {
   "cell_type": "code",
   "execution_count": 104,
   "id": "4a819ffa",
   "metadata": {},
   "outputs": [],
   "source": [
    "df_2.to_csv(\"Shark_tank_new.csv\")"
   ]
  },
  {
   "cell_type": "code",
   "execution_count": null,
   "id": "e15bdcd9",
   "metadata": {},
   "outputs": [],
   "source": []
  },
  {
   "cell_type": "code",
   "execution_count": null,
   "id": "448b36d6",
   "metadata": {},
   "outputs": [],
   "source": []
  }
 ],
 "metadata": {
  "kernelspec": {
   "display_name": "Python 3 (ipykernel)",
   "language": "python",
   "name": "python3"
  },
  "language_info": {
   "codemirror_mode": {
    "name": "ipython",
    "version": 3
   },
   "file_extension": ".py",
   "mimetype": "text/x-python",
   "name": "python",
   "nbconvert_exporter": "python",
   "pygments_lexer": "ipython3",
   "version": "3.9.13"
  }
 },
 "nbformat": 4,
 "nbformat_minor": 5
}
